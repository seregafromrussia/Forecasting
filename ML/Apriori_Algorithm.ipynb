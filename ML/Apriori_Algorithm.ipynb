{
 "cells": [
  {
   "cell_type": "code",
   "execution_count": 186,
   "metadata": {
    "collapsed": true
   },
   "outputs": [],
   "source": [
    "import numpy as np\n",
    "import matplotlib.pyplot as plt\n",
    "import pandas as pd\n",
    "from apyori import apriori"
   ]
  },
  {
   "cell_type": "code",
   "execution_count": 187,
   "outputs": [
    {
     "name": "stdout",
     "output_type": "stream",
     "text": [
      "Количество строк: 541909\n"
     ]
    },
    {
     "data": {
      "text/plain": "  InvoiceNo StockCode                          Description  \\\n0    536365    85123A   WHITE HANGING HEART T-LIGHT HOLDER   \n1    536365     71053                  WHITE METAL LANTERN   \n2    536365    84406B       CREAM CUPID HEARTS COAT HANGER   \n3    536365    84029G  KNITTED UNION FLAG HOT WATER BOTTLE   \n4    536365    84029E       RED WOOLLY HOTTIE WHITE HEART.   \n\n          InvoiceDate  UnitPrice  CustomerID         Country  \n0 2010-12-01 08:26:00       2.55     17850.0  United Kingdom  \n1 2010-12-01 08:26:00       3.39     17850.0  United Kingdom  \n2 2010-12-01 08:26:00       2.75     17850.0  United Kingdom  \n3 2010-12-01 08:26:00       3.39     17850.0  United Kingdom  \n4 2010-12-01 08:26:00       3.39     17850.0  United Kingdom  ",
      "text/html": "<div>\n<style scoped>\n    .dataframe tbody tr th:only-of-type {\n        vertical-align: middle;\n    }\n\n    .dataframe tbody tr th {\n        vertical-align: top;\n    }\n\n    .dataframe thead th {\n        text-align: right;\n    }\n</style>\n<table border=\"1\" class=\"dataframe\">\n  <thead>\n    <tr style=\"text-align: right;\">\n      <th></th>\n      <th>InvoiceNo</th>\n      <th>StockCode</th>\n      <th>Description</th>\n      <th>InvoiceDate</th>\n      <th>UnitPrice</th>\n      <th>CustomerID</th>\n      <th>Country</th>\n    </tr>\n  </thead>\n  <tbody>\n    <tr>\n      <th>0</th>\n      <td>536365</td>\n      <td>85123A</td>\n      <td>WHITE HANGING HEART T-LIGHT HOLDER</td>\n      <td>2010-12-01 08:26:00</td>\n      <td>2.55</td>\n      <td>17850.0</td>\n      <td>United Kingdom</td>\n    </tr>\n    <tr>\n      <th>1</th>\n      <td>536365</td>\n      <td>71053</td>\n      <td>WHITE METAL LANTERN</td>\n      <td>2010-12-01 08:26:00</td>\n      <td>3.39</td>\n      <td>17850.0</td>\n      <td>United Kingdom</td>\n    </tr>\n    <tr>\n      <th>2</th>\n      <td>536365</td>\n      <td>84406B</td>\n      <td>CREAM CUPID HEARTS COAT HANGER</td>\n      <td>2010-12-01 08:26:00</td>\n      <td>2.75</td>\n      <td>17850.0</td>\n      <td>United Kingdom</td>\n    </tr>\n    <tr>\n      <th>3</th>\n      <td>536365</td>\n      <td>84029G</td>\n      <td>KNITTED UNION FLAG HOT WATER BOTTLE</td>\n      <td>2010-12-01 08:26:00</td>\n      <td>3.39</td>\n      <td>17850.0</td>\n      <td>United Kingdom</td>\n    </tr>\n    <tr>\n      <th>4</th>\n      <td>536365</td>\n      <td>84029E</td>\n      <td>RED WOOLLY HOTTIE WHITE HEART.</td>\n      <td>2010-12-01 08:26:00</td>\n      <td>3.39</td>\n      <td>17850.0</td>\n      <td>United Kingdom</td>\n    </tr>\n  </tbody>\n</table>\n</div>"
     },
     "execution_count": 187,
     "metadata": {},
     "output_type": "execute_result"
    }
   ],
   "source": [
    "#df = pd.read_csv(\"datasets\\groceries.csv\", header=None)\n",
    "#df = pd.read_csv(\"datasets\\store_data.csv\", header=None)\n",
    "df = pd.read_excel('datasets\\Online_Retail.xlsx')\n",
    "\n",
    "# del df['Item(s)']\n",
    "print(\"Количество строк: %d\"  %  df.shape[0])\n",
    "df.head()"
   ],
   "metadata": {
    "collapsed": false,
    "pycharm": {
     "name": "#%%\n"
    }
   }
  },
  {
   "cell_type": "code",
   "execution_count": 188,
   "outputs": [],
   "source": [
    "gp_invoiceno = df.groupby('InvoiceNo')\n",
    "transactions = []\n",
    "for name,group in gp_invoiceno:\n",
    "    transactions.append(list(group['Description'].map(str)))\n",
    "\n",
    "# records = []\n",
    "# for i in range(0, df.shape[0]):\n",
    "#     records.append([str(df.values[i,j]) for j in range(0, df.shape[1])])"
   ],
   "metadata": {
    "collapsed": false,
    "pycharm": {
     "name": "#%%\n"
    }
   }
  },
  {
   "cell_type": "code",
   "execution_count": 189,
   "outputs": [],
   "source": [
    "association_rules = apriori(transactions, min_support = 0.01, min_confidence = 0.75, min_lift = 3, max_length = 2)\n",
    "# Get the results\n",
    "association_results = list(association_rules)\n",
    "\n",
    "# association_rules = apriori(records, min_support=0.02, min_confidence=0.22, min_lift=1.1, max_length=10)\n",
    "# association_results = list(association_rules)\n"
   ],
   "metadata": {
    "collapsed": false,
    "pycharm": {
     "name": "#%%\n"
    }
   }
  },
  {
   "cell_type": "code",
   "execution_count": 190,
   "outputs": [
    {
     "name": "stdout",
     "output_type": "stream",
     "text": [
      "11\n"
     ]
    }
   ],
   "source": [
    "print(len(association_results))\n"
   ],
   "metadata": {
    "collapsed": false,
    "pycharm": {
     "name": "#%%\n"
    }
   }
  },
  {
   "cell_type": "code",
   "execution_count": 191,
   "outputs": [
    {
     "name": "stdout",
     "output_type": "stream",
     "text": [
      "OrderedStatistic(items_base=frozenset({'PINK REGENCY TEACUP AND SAUCER'}), items_add=frozenset({'GREEN REGENCY TEACUP AND SAUCER'}), confidence=0.8039950062421972, lift=19.70053988805384)\n"
     ]
    }
   ],
   "source": [
    "print(association_results[0].ordered_statistics[0])\n"
   ],
   "metadata": {
    "collapsed": false,
    "pycharm": {
     "name": "#%%\n"
    }
   }
  },
  {
   "cell_type": "code",
   "execution_count": 192,
   "outputs": [
    {
     "name": "stdout",
     "output_type": "stream",
     "text": [
      "Rule: PINK REGENCY TEACUP AND SAUCER -> GREEN REGENCY TEACUP AND SAUCER\n",
      "Support: 0.024864864864864864\n",
      "Confidence: 0.8039950062421972\n",
      "Lift: 19.70053988805384\n",
      "=====================================\n",
      "Rule: PINK REGENCY TEACUP AND SAUCER -> ROSES REGENCY TEACUP AND SAUCER \n",
      "Support: 0.023706563706563707\n",
      "Confidence: 0.766541822721598\n",
      "Lift: 17.726279650436954\n",
      "=====================================\n",
      "Rule: POPPY'S PLAYHOUSE LIVINGROOM  -> POPPY'S PLAYHOUSE BEDROOM \n",
      "Support: 0.010115830115830116\n",
      "Confidence: 0.793939393939394\n",
      "Lift: 48.270024185517144\n",
      "=====================================\n",
      "Rule: POPPY'S PLAYHOUSE KITCHEN -> POPPY'S PLAYHOUSE LIVINGROOM \n",
      "Support: 0.010154440154440154\n",
      "Confidence: 0.7969696969696969\n",
      "Lift: 46.9125344352617\n",
      "=====================================\n",
      "Rule: REGENCY TEA PLATE PINK -> REGENCY TEA PLATE GREEN \n",
      "Support: 0.010888030888030888\n",
      "Confidence: 0.8980891719745222\n",
      "Lift: 60.26038744595887\n",
      "=====================================\n",
      "Rule: REGENCY TEA PLATE ROSES  -> REGENCY TEA PLATE GREEN \n",
      "Support: 0.012432432432432432\n",
      "Confidence: 0.8341968911917098\n",
      "Lift: 47.277241754628626\n",
      "=====================================\n",
      "Rule: REGENCY TEA PLATE ROSES  -> REGENCY TEA PLATE PINK\n",
      "Support: 0.010501930501930502\n",
      "Confidence: 0.8662420382165604\n",
      "Lift: 49.09336715494292\n",
      "=====================================\n",
      "Rule: SET/6 RED SPOTTY PAPER CUPS -> SET/6 RED SPOTTY PAPER PLATES\n",
      "Support: 0.013513513513513514\n",
      "Confidence: 0.8177570093457944\n",
      "Lift: 40.18957598113107\n",
      "=====================================\n",
      "Rule: SMALL DOLLY MIX DESIGN ORANGE BOWL -> SMALL MARSHMALLOWS PINK BOWL\n",
      "Support: 0.013513513513513514\n",
      "Confidence: 0.78125\n",
      "Lift: 38.32267992424243\n",
      "=====================================\n",
      "Rule: WOODEN STAR CHRISTMAS SCANDINAVIAN -> WOODEN HEART CHRISTMAS SCANDINAVIAN\n",
      "Support: 0.01501930501930502\n",
      "Confidence: 0.7553398058252427\n",
      "Lift: 36.22833513124775\n",
      "=====================================\n",
      "Rule: WOODEN TREE CHRISTMAS SCANDINAVIAN -> WOODEN STAR CHRISTMAS SCANDINAVIAN\n",
      "Support: 0.010888030888030888\n",
      "Confidence: 0.831858407079646\n",
      "Lift: 41.83520921041327\n",
      "=====================================\n"
     ]
    }
   ],
   "source": [
    "# association_results.sort_values('Lift')\n",
    "# association_results.sort(key=\"Lift\")\n",
    "for item in association_results:\n",
    "\n",
    "    pair = item[0]\n",
    "    items = [x for x in pair]\n",
    "\n",
    "    print(\"Rule: \" + items[0] + \" -> \" + items[1])\n",
    "    print(\"Support: \" + str(item[1]))\n",
    "    print(\"Confidence: \" + str(item[2][0][2]))\n",
    "    print(\"Lift: \" + str(item[2][0][3]))\n",
    "    print(\"=====================================\")\n",
    "\n",
    "# ar = association_results[0]\n",
    "# pair =ar[0]\n",
    "# print(pair)\n",
    "# items = [x for x in pair]\n",
    "# print(items)\n",
    "# print(\"Rule: \" + items[0] + \" -> \" + items[1])\n",
    "# print(\"Support: \" + str(ar[1]))\n",
    "# print(\"Confidence: \" + str(ar[2][0][2]))\n",
    "# print(\"Lift: \" + str(ar[2][0][3]))\n",
    "# print(\"=====================================\")\n",
    "\n"
   ],
   "metadata": {
    "collapsed": false,
    "pycharm": {
     "name": "#%%\n"
    }
   }
  }
 ],
 "metadata": {
  "kernelspec": {
   "name": "pycharm-cfdf77",
   "language": "python",
   "display_name": "PyCharm (Forecasting)"
  },
  "language_info": {
   "codemirror_mode": {
    "name": "ipython",
    "version": 2
   },
   "file_extension": ".py",
   "mimetype": "text/x-python",
   "name": "python",
   "nbconvert_exporter": "python",
   "pygments_lexer": "ipython2",
   "version": "2.7.6"
  }
 },
 "nbformat": 4,
 "nbformat_minor": 0
}