{
 "cells": [
  {
   "cell_type": "code",
   "execution_count": 55,
   "metadata": {
    "collapsed": true
   },
   "outputs": [],
   "source": [
    "import numpy as np\n",
    "import matplotlib.pyplot as plt\n",
    "import pandas as pd\n",
    "from apyori import apriori"
   ]
  },
  {
   "cell_type": "code",
   "execution_count": 56,
   "outputs": [],
   "source": [
    "df = pd.read_excel('datasets\\Big_retail_dataset.xlsx')"
   ],
   "metadata": {
    "collapsed": false,
    "pycharm": {
     "name": "#%%\n"
    }
   }
  },
  {
   "cell_type": "code",
   "execution_count": 57,
   "outputs": [
    {
     "name": "stdout",
     "output_type": "stream",
     "text": [
      "Количество строк: 541909\n",
      "25900\n",
      "1454\n",
      "Количество строк: 540455\n"
     ]
    },
    {
     "data": {
      "text/plain": "                                 0                            1     \\\n0  WHITE HANGING HEART T-LIGHT HOLDER          WHITE METAL LANTERN   \n1              HAND WARMER UNION JACK    HAND WARMER RED POLKA DOT   \n2       ASSORTED COLOUR BIRD ORNAMENT   POPPY'S PLAYHOUSE BEDROOM    \n3            JAM MAKING SET WITH JARS  RED COAT RACK PARIS FASHION   \n4            BATH BUILDING BLOCK WORD                         None   \n\n                             2                                    3     \\\n0  CREAM CUPID HEARTS COAT HANGER  KNITTED UNION FLAG HOT WATER BOTTLE   \n1                            None                                 None   \n2       POPPY'S PLAYHOUSE KITCHEN    FELTCRAFT PRINCESS CHARLOTTE DOLL   \n3  YELLOW COAT RACK PARIS FASHION         BLUE COAT RACK PARIS FASHION   \n4                            None                                 None   \n\n                             4                                   5     \\\n0  RED WOOLLY HOTTIE WHITE HEART.        SET 7 BABUSHKA NESTING BOXES   \n1                            None                                None   \n2         IVORY KNITTED MUG COSY   BOX OF 6 ASSORTED COLOUR TEASPOONS   \n3                            None                                None   \n4                            None                                None   \n\n                                6                               7     \\\n0  GLASS STAR FROSTED T-LIGHT HOLDER                            None   \n1                               None                            None   \n2      BOX OF VINTAGE JIGSAW BLOCKS   BOX OF VINTAGE ALPHABET BLOCKS   \n3                               None                            None   \n4                               None                            None   \n\n                       8                         9     ...  1104  1105  1106  \\\n0                      None                      None  ...  None  None  None   \n1                      None                      None  ...  None  None  None   \n2  HOME BUILDING BLOCK WORD  LOVE BUILDING BLOCK WORD  ...  None  None  None   \n3                      None                      None  ...  None  None  None   \n4                      None                      None  ...  None  None  None   \n\n   1107  1108  1109  1110  1111  1112  1113  \n0  None  None  None  None  None  None  None  \n1  None  None  None  None  None  None  None  \n2  None  None  None  None  None  None  None  \n3  None  None  None  None  None  None  None  \n4  None  None  None  None  None  None  None  \n\n[5 rows x 1114 columns]",
      "text/html": "<div>\n<style scoped>\n    .dataframe tbody tr th:only-of-type {\n        vertical-align: middle;\n    }\n\n    .dataframe tbody tr th {\n        vertical-align: top;\n    }\n\n    .dataframe thead th {\n        text-align: right;\n    }\n</style>\n<table border=\"1\" class=\"dataframe\">\n  <thead>\n    <tr style=\"text-align: right;\">\n      <th></th>\n      <th>0</th>\n      <th>1</th>\n      <th>2</th>\n      <th>3</th>\n      <th>4</th>\n      <th>5</th>\n      <th>6</th>\n      <th>7</th>\n      <th>8</th>\n      <th>9</th>\n      <th>...</th>\n      <th>1104</th>\n      <th>1105</th>\n      <th>1106</th>\n      <th>1107</th>\n      <th>1108</th>\n      <th>1109</th>\n      <th>1110</th>\n      <th>1111</th>\n      <th>1112</th>\n      <th>1113</th>\n    </tr>\n  </thead>\n  <tbody>\n    <tr>\n      <th>0</th>\n      <td>WHITE HANGING HEART T-LIGHT HOLDER</td>\n      <td>WHITE METAL LANTERN</td>\n      <td>CREAM CUPID HEARTS COAT HANGER</td>\n      <td>KNITTED UNION FLAG HOT WATER BOTTLE</td>\n      <td>RED WOOLLY HOTTIE WHITE HEART.</td>\n      <td>SET 7 BABUSHKA NESTING BOXES</td>\n      <td>GLASS STAR FROSTED T-LIGHT HOLDER</td>\n      <td>None</td>\n      <td>None</td>\n      <td>None</td>\n      <td>...</td>\n      <td>None</td>\n      <td>None</td>\n      <td>None</td>\n      <td>None</td>\n      <td>None</td>\n      <td>None</td>\n      <td>None</td>\n      <td>None</td>\n      <td>None</td>\n      <td>None</td>\n    </tr>\n    <tr>\n      <th>1</th>\n      <td>HAND WARMER UNION JACK</td>\n      <td>HAND WARMER RED POLKA DOT</td>\n      <td>None</td>\n      <td>None</td>\n      <td>None</td>\n      <td>None</td>\n      <td>None</td>\n      <td>None</td>\n      <td>None</td>\n      <td>None</td>\n      <td>...</td>\n      <td>None</td>\n      <td>None</td>\n      <td>None</td>\n      <td>None</td>\n      <td>None</td>\n      <td>None</td>\n      <td>None</td>\n      <td>None</td>\n      <td>None</td>\n      <td>None</td>\n    </tr>\n    <tr>\n      <th>2</th>\n      <td>ASSORTED COLOUR BIRD ORNAMENT</td>\n      <td>POPPY'S PLAYHOUSE BEDROOM</td>\n      <td>POPPY'S PLAYHOUSE KITCHEN</td>\n      <td>FELTCRAFT PRINCESS CHARLOTTE DOLL</td>\n      <td>IVORY KNITTED MUG COSY</td>\n      <td>BOX OF 6 ASSORTED COLOUR TEASPOONS</td>\n      <td>BOX OF VINTAGE JIGSAW BLOCKS</td>\n      <td>BOX OF VINTAGE ALPHABET BLOCKS</td>\n      <td>HOME BUILDING BLOCK WORD</td>\n      <td>LOVE BUILDING BLOCK WORD</td>\n      <td>...</td>\n      <td>None</td>\n      <td>None</td>\n      <td>None</td>\n      <td>None</td>\n      <td>None</td>\n      <td>None</td>\n      <td>None</td>\n      <td>None</td>\n      <td>None</td>\n      <td>None</td>\n    </tr>\n    <tr>\n      <th>3</th>\n      <td>JAM MAKING SET WITH JARS</td>\n      <td>RED COAT RACK PARIS FASHION</td>\n      <td>YELLOW COAT RACK PARIS FASHION</td>\n      <td>BLUE COAT RACK PARIS FASHION</td>\n      <td>None</td>\n      <td>None</td>\n      <td>None</td>\n      <td>None</td>\n      <td>None</td>\n      <td>None</td>\n      <td>...</td>\n      <td>None</td>\n      <td>None</td>\n      <td>None</td>\n      <td>None</td>\n      <td>None</td>\n      <td>None</td>\n      <td>None</td>\n      <td>None</td>\n      <td>None</td>\n      <td>None</td>\n    </tr>\n    <tr>\n      <th>4</th>\n      <td>BATH BUILDING BLOCK WORD</td>\n      <td>None</td>\n      <td>None</td>\n      <td>None</td>\n      <td>None</td>\n      <td>None</td>\n      <td>None</td>\n      <td>None</td>\n      <td>None</td>\n      <td>None</td>\n      <td>...</td>\n      <td>None</td>\n      <td>None</td>\n      <td>None</td>\n      <td>None</td>\n      <td>None</td>\n      <td>None</td>\n      <td>None</td>\n      <td>None</td>\n      <td>None</td>\n      <td>None</td>\n    </tr>\n  </tbody>\n</table>\n<p>5 rows × 1114 columns</p>\n</div>"
     },
     "execution_count": 57,
     "metadata": {},
     "output_type": "execute_result"
    }
   ],
   "source": [
    "df['InvoiceDate'] = pd.to_datetime(df['InvoiceDate']).dt.normalize()\n",
    "\n",
    "print(\"Количество строк: %d\"  %  df.shape[0])\n",
    "\n",
    "df.head()\n",
    "\n",
    "print(len(df['InvoiceNo'].unique()))\n",
    "\n",
    "print(len(df[df['Description'].isnull()]))\n",
    "\n",
    "df=df[df['Description'].notnull()]\n",
    "#df=df.drop(df['Description']=='')\n",
    "#df = df.dropna(how='any',axis=0)\n",
    "\n",
    "print(\"Количество строк: %d\"  %  df.shape[0])\n",
    "\n",
    "df.head()\n",
    "\n",
    "gp_InvoiceNo = df.groupby('InvoiceNo')\n",
    "transactions = []\n",
    "for name,group in gp_InvoiceNo:\n",
    "    transactions.append(list(group['Description'].map(str)))\n",
    "\n",
    "transactions_df=pd.DataFrame(transactions)\n",
    "transactions_df.head()\n"
   ],
   "metadata": {
    "collapsed": false,
    "pycharm": {
     "name": "#%%\n"
    }
   }
  },
  {
   "cell_type": "code",
   "execution_count": 62,
   "outputs": [
    {
     "data": {
      "text/plain": "                                          GeneralRules  \\\n71   REGENCY TEA PLATE GREEN  | & | REGENCY TEA PLA...   \n67   POPPY'S PLAYHOUSE KITCHEN | & | POPPY'S PLAYHO...   \n75   SET/6 RED SPOTTY PAPER CUPS | & | SET/6 RED SP...   \n76   SMALL MARSHMALLOWS PINK BOWL | & | SMALL DOLLY...   \n80   WOODEN HEART CHRISTMAS SCANDINAVIAN | & | WOOD...   \n73   SET OF 12 FAIRY CAKE BAKING CASES | & | SET OF...   \n32   JUMBO BAG 50'S CHRISTMAS  | & | JUMBO BAG VINT...   \n29   HAND WARMER SCOTTY DOG DESIGN | & | HAND WARME...   \n85   CHARLOTTE BAG SUKI DESIGN | & | STRAWBERRY CHA...   \n24             DOTCOM POSTAGE | & | SUKI  SHOULDER BAG   \n83   CHARLOTTE BAG PINK POLKADOT | & | STRAWBERRY C...   \n88   GREEN REGENCY TEACUP AND SAUCER | & | PINK REG...   \n28   HAND WARMER BIRD DESIGN | & | HAND WARMER OWL ...   \n107  WOODLAND CHARLOTTE BAG | & | STRAWBERRY CHARLO...   \n86   CHARLOTTE BAG SUKI DESIGN | & | WOODLAND CHARL...   \n8    RED  HARMONICA IN BOX  | & | BLUE HARMONICA IN...   \n25   GARDENERS KNEELING PAD KEEP CALM  | & | GARDEN...   \n82   CHARLOTTE BAG PINK POLKADOT | & | CHARLOTTE BA...   \n26   GREEN REGENCY TEACUP AND SAUCER | & | PINK REG...   \n106  PINK REGENCY TEACUP AND SAUCER | & | REGENCY C...   \n\n                                              LeftPart  \\\n71                            REGENCY TEA PLATE GREEN    \n67                          POPPY'S PLAYHOUSE BEDROOM    \n75                         SET/6 RED SPOTTY PAPER CUPS   \n76                  SMALL DOLLY MIX DESIGN ORANGE BOWL   \n80                 WOODEN HEART CHRISTMAS SCANDINAVIAN   \n73                   SET OF 12 FAIRY CAKE BAKING CASES   \n32                        JUMBO BAG VINTAGE CHRISTMAS    \n29                              HAND WARMER OWL DESIGN   \n85   CHARLOTTE BAG SUKI DESIGN | & | RED RETROSPOT ...   \n24                                  SUKI  SHOULDER BAG   \n83   CHARLOTTE BAG PINK POLKADOT | & | RED RETROSPO...   \n88                     GREEN REGENCY TEACUP AND SAUCER   \n28                             HAND WARMER BIRD DESIGN   \n107  STRAWBERRY CHARLOTTE BAG | & | RED RETROSPOT C...   \n86   CHARLOTTE BAG SUKI DESIGN | & | RED RETROSPOT ...   \n8                               BLUE HARMONICA IN BOX    \n25                  GARDENERS KNEELING PAD CUP OF TEA    \n82   CHARLOTTE BAG PINK POLKADOT | & | CHARLOTTE BA...   \n26                     GREEN REGENCY TEACUP AND SAUCER   \n106  PINK REGENCY TEACUP AND SAUCER | & | REGENCY C...   \n\n                                             RightPart   Support  Confidence  \\\n71                            REGENCY TEA PLATE ROSES   0.013172    0.834197   \n67                           POPPY'S PLAYHOUSE KITCHEN  0.012845    0.737089   \n75                       SET/6 RED SPOTTY PAPER PLATES  0.014317    0.817757   \n76                        SMALL MARSHMALLOWS PINK BOWL  0.014317    0.662879   \n80                  WOODEN STAR CHRISTMAS SCANDINAVIAN  0.015913    0.720370   \n73                    SET OF 12 MINI LOAF BAKING CASES  0.012558    0.551167   \n32                           JUMBO BAG 50'S CHRISTMAS   0.013254    0.670807   \n29                       HAND WARMER SCOTTY DOG DESIGN  0.013704    0.503759   \n85                            STRAWBERRY CHARLOTTE BAG  0.013745    0.658824   \n24                                      DOTCOM POSTAGE  0.013745    0.632768   \n83                            STRAWBERRY CHARLOTTE BAG  0.013417    0.623574   \n88   PINK REGENCY TEACUP AND SAUCER | & | ROSES REG...  0.022458    0.519395   \n28                              HAND WARMER OWL DESIGN  0.012763    0.557143   \n107                             WOODLAND CHARLOTTE BAG  0.013417    0.669388   \n86                              WOODLAND CHARLOTTE BAG  0.013785    0.660784   \n8                               RED  HARMONICA IN BOX   0.012926    0.522314   \n25                   GARDENERS KNEELING PAD KEEP CALM   0.022458    0.717647   \n82                         RED RETROSPOT CHARLOTTE BAG  0.013581    0.800000   \n26                      PINK REGENCY TEACUP AND SAUCER  0.026344    0.609272   \n106                   ROSES REGENCY TEACUP AND SAUCER   0.013785    0.838308   \n\n          Lift  \n71   44.623145  \n67   40.952006  \n75   37.933374  \n76   36.171283  \n80   34.194513  \n73   30.008525  \n32   22.681271  \n29   22.269263  \n85   21.942234  \n24   21.817568  \n83   20.768247  \n88   20.679346  \n28   20.481074  \n107  19.411451  \n86   19.161961  \n8    19.057447  \n25   18.986580  \n82   18.625524  \n26   18.594571  \n106  18.297579  ",
      "text/html": "<div>\n<style scoped>\n    .dataframe tbody tr th:only-of-type {\n        vertical-align: middle;\n    }\n\n    .dataframe tbody tr th {\n        vertical-align: top;\n    }\n\n    .dataframe thead th {\n        text-align: right;\n    }\n</style>\n<table border=\"1\" class=\"dataframe\">\n  <thead>\n    <tr style=\"text-align: right;\">\n      <th></th>\n      <th>GeneralRules</th>\n      <th>LeftPart</th>\n      <th>RightPart</th>\n      <th>Support</th>\n      <th>Confidence</th>\n      <th>Lift</th>\n    </tr>\n  </thead>\n  <tbody>\n    <tr>\n      <th>71</th>\n      <td>REGENCY TEA PLATE GREEN  | &amp; | REGENCY TEA PLA...</td>\n      <td>REGENCY TEA PLATE GREEN</td>\n      <td>REGENCY TEA PLATE ROSES</td>\n      <td>0.013172</td>\n      <td>0.834197</td>\n      <td>44.623145</td>\n    </tr>\n    <tr>\n      <th>67</th>\n      <td>POPPY'S PLAYHOUSE KITCHEN | &amp; | POPPY'S PLAYHO...</td>\n      <td>POPPY'S PLAYHOUSE BEDROOM</td>\n      <td>POPPY'S PLAYHOUSE KITCHEN</td>\n      <td>0.012845</td>\n      <td>0.737089</td>\n      <td>40.952006</td>\n    </tr>\n    <tr>\n      <th>75</th>\n      <td>SET/6 RED SPOTTY PAPER CUPS | &amp; | SET/6 RED SP...</td>\n      <td>SET/6 RED SPOTTY PAPER CUPS</td>\n      <td>SET/6 RED SPOTTY PAPER PLATES</td>\n      <td>0.014317</td>\n      <td>0.817757</td>\n      <td>37.933374</td>\n    </tr>\n    <tr>\n      <th>76</th>\n      <td>SMALL MARSHMALLOWS PINK BOWL | &amp; | SMALL DOLLY...</td>\n      <td>SMALL DOLLY MIX DESIGN ORANGE BOWL</td>\n      <td>SMALL MARSHMALLOWS PINK BOWL</td>\n      <td>0.014317</td>\n      <td>0.662879</td>\n      <td>36.171283</td>\n    </tr>\n    <tr>\n      <th>80</th>\n      <td>WOODEN HEART CHRISTMAS SCANDINAVIAN | &amp; | WOOD...</td>\n      <td>WOODEN HEART CHRISTMAS SCANDINAVIAN</td>\n      <td>WOODEN STAR CHRISTMAS SCANDINAVIAN</td>\n      <td>0.015913</td>\n      <td>0.720370</td>\n      <td>34.194513</td>\n    </tr>\n    <tr>\n      <th>73</th>\n      <td>SET OF 12 FAIRY CAKE BAKING CASES | &amp; | SET OF...</td>\n      <td>SET OF 12 FAIRY CAKE BAKING CASES</td>\n      <td>SET OF 12 MINI LOAF BAKING CASES</td>\n      <td>0.012558</td>\n      <td>0.551167</td>\n      <td>30.008525</td>\n    </tr>\n    <tr>\n      <th>32</th>\n      <td>JUMBO BAG 50'S CHRISTMAS  | &amp; | JUMBO BAG VINT...</td>\n      <td>JUMBO BAG VINTAGE CHRISTMAS</td>\n      <td>JUMBO BAG 50'S CHRISTMAS</td>\n      <td>0.013254</td>\n      <td>0.670807</td>\n      <td>22.681271</td>\n    </tr>\n    <tr>\n      <th>29</th>\n      <td>HAND WARMER SCOTTY DOG DESIGN | &amp; | HAND WARME...</td>\n      <td>HAND WARMER OWL DESIGN</td>\n      <td>HAND WARMER SCOTTY DOG DESIGN</td>\n      <td>0.013704</td>\n      <td>0.503759</td>\n      <td>22.269263</td>\n    </tr>\n    <tr>\n      <th>85</th>\n      <td>CHARLOTTE BAG SUKI DESIGN | &amp; | STRAWBERRY CHA...</td>\n      <td>CHARLOTTE BAG SUKI DESIGN | &amp; | RED RETROSPOT ...</td>\n      <td>STRAWBERRY CHARLOTTE BAG</td>\n      <td>0.013745</td>\n      <td>0.658824</td>\n      <td>21.942234</td>\n    </tr>\n    <tr>\n      <th>24</th>\n      <td>DOTCOM POSTAGE | &amp; | SUKI  SHOULDER BAG</td>\n      <td>SUKI  SHOULDER BAG</td>\n      <td>DOTCOM POSTAGE</td>\n      <td>0.013745</td>\n      <td>0.632768</td>\n      <td>21.817568</td>\n    </tr>\n    <tr>\n      <th>83</th>\n      <td>CHARLOTTE BAG PINK POLKADOT | &amp; | STRAWBERRY C...</td>\n      <td>CHARLOTTE BAG PINK POLKADOT | &amp; | RED RETROSPO...</td>\n      <td>STRAWBERRY CHARLOTTE BAG</td>\n      <td>0.013417</td>\n      <td>0.623574</td>\n      <td>20.768247</td>\n    </tr>\n    <tr>\n      <th>88</th>\n      <td>GREEN REGENCY TEACUP AND SAUCER | &amp; | PINK REG...</td>\n      <td>GREEN REGENCY TEACUP AND SAUCER</td>\n      <td>PINK REGENCY TEACUP AND SAUCER | &amp; | ROSES REG...</td>\n      <td>0.022458</td>\n      <td>0.519395</td>\n      <td>20.679346</td>\n    </tr>\n    <tr>\n      <th>28</th>\n      <td>HAND WARMER BIRD DESIGN | &amp; | HAND WARMER OWL ...</td>\n      <td>HAND WARMER BIRD DESIGN</td>\n      <td>HAND WARMER OWL DESIGN</td>\n      <td>0.012763</td>\n      <td>0.557143</td>\n      <td>20.481074</td>\n    </tr>\n    <tr>\n      <th>107</th>\n      <td>WOODLAND CHARLOTTE BAG | &amp; | STRAWBERRY CHARLO...</td>\n      <td>STRAWBERRY CHARLOTTE BAG | &amp; | RED RETROSPOT C...</td>\n      <td>WOODLAND CHARLOTTE BAG</td>\n      <td>0.013417</td>\n      <td>0.669388</td>\n      <td>19.411451</td>\n    </tr>\n    <tr>\n      <th>86</th>\n      <td>CHARLOTTE BAG SUKI DESIGN | &amp; | WOODLAND CHARL...</td>\n      <td>CHARLOTTE BAG SUKI DESIGN | &amp; | RED RETROSPOT ...</td>\n      <td>WOODLAND CHARLOTTE BAG</td>\n      <td>0.013785</td>\n      <td>0.660784</td>\n      <td>19.161961</td>\n    </tr>\n    <tr>\n      <th>8</th>\n      <td>RED  HARMONICA IN BOX  | &amp; | BLUE HARMONICA IN...</td>\n      <td>BLUE HARMONICA IN BOX</td>\n      <td>RED  HARMONICA IN BOX</td>\n      <td>0.012926</td>\n      <td>0.522314</td>\n      <td>19.057447</td>\n    </tr>\n    <tr>\n      <th>25</th>\n      <td>GARDENERS KNEELING PAD KEEP CALM  | &amp; | GARDEN...</td>\n      <td>GARDENERS KNEELING PAD CUP OF TEA</td>\n      <td>GARDENERS KNEELING PAD KEEP CALM</td>\n      <td>0.022458</td>\n      <td>0.717647</td>\n      <td>18.986580</td>\n    </tr>\n    <tr>\n      <th>82</th>\n      <td>CHARLOTTE BAG PINK POLKADOT | &amp; | CHARLOTTE BA...</td>\n      <td>CHARLOTTE BAG PINK POLKADOT | &amp; | CHARLOTTE BA...</td>\n      <td>RED RETROSPOT CHARLOTTE BAG</td>\n      <td>0.013581</td>\n      <td>0.800000</td>\n      <td>18.625524</td>\n    </tr>\n    <tr>\n      <th>26</th>\n      <td>GREEN REGENCY TEACUP AND SAUCER | &amp; | PINK REG...</td>\n      <td>GREEN REGENCY TEACUP AND SAUCER</td>\n      <td>PINK REGENCY TEACUP AND SAUCER</td>\n      <td>0.026344</td>\n      <td>0.609272</td>\n      <td>18.594571</td>\n    </tr>\n    <tr>\n      <th>106</th>\n      <td>PINK REGENCY TEACUP AND SAUCER | &amp; | REGENCY C...</td>\n      <td>PINK REGENCY TEACUP AND SAUCER | &amp; | REGENCY C...</td>\n      <td>ROSES REGENCY TEACUP AND SAUCER</td>\n      <td>0.013785</td>\n      <td>0.838308</td>\n      <td>18.297579</td>\n    </tr>\n  </tbody>\n</table>\n</div>"
     },
     "execution_count": 62,
     "metadata": {},
     "output_type": "execute_result"
    }
   ],
   "source": [
    "support=len(df['InvoiceDate'].unique())/transactions_df.shape[0]\n",
    "\n",
    "association_results = list(apriori(transactions,\n",
    "                                   min_support = support,\n",
    "                                   min_confidence = 0.5,\n",
    "                                   min_lift = 3,\n",
    "                                   min_length = 2))\n",
    "\n",
    "association_results_table=\\\n",
    "    pd.DataFrame(np.random.randint(low=0,\n",
    "                                   high=1,\n",
    "                                   size=(len(association_results),6)),\n",
    "                 columns=['GeneralRules',\n",
    "                          'LeftPart',\n",
    "                          'RightPart',\n",
    "                          'Support',\n",
    "                          'Confidence',\n",
    "                          'Lift'])\n",
    "index=0\n",
    "for g, s, i in association_results:\n",
    "    association_results_table.iloc[index] = [' | & | '.join(list(g)),\n",
    "                                             ' | & | '.join(list(i[0][0])),\n",
    "                                             ' | & | '.join(list(i[0][1])),\n",
    "                                             s,\n",
    "                                             i[0][2],\n",
    "                                             i[0][3]]\n",
    "    index=index+1\n",
    "association_results_table = \\\n",
    "    association_results_table.sort_values('Lift', ascending=0)\n",
    "association_results_table.head()"
   ],
   "metadata": {
    "collapsed": false,
    "pycharm": {
     "name": "#%%\n"
    }
   }
  },
  {
   "cell_type": "code",
   "execution_count": 59,
   "outputs": [
    {
     "name": "stdout",
     "output_type": "stream",
     "text": [
      "20\n"
     ]
    }
   ],
   "source": [
    "print(len(association_results))\n"
   ],
   "metadata": {
    "collapsed": false,
    "pycharm": {
     "name": "#%%\n"
    }
   }
  },
  {
   "cell_type": "code",
   "execution_count": 60,
   "outputs": [
    {
     "name": "stdout",
     "output_type": "stream",
     "text": [
      "OrderedStatistic(items_base=frozenset({'PINK REGENCY TEACUP AND SAUCER'}), items_add=frozenset({'GREEN REGENCY TEACUP AND SAUCER'}), confidence=0.8039950062421972, lift=18.594571355342246)\n"
     ]
    }
   ],
   "source": [
    "print(association_results[0].ordered_statistics[0])\n"
   ],
   "metadata": {
    "collapsed": false,
    "pycharm": {
     "name": "#%%\n"
    }
   }
  },
  {
   "cell_type": "code",
   "execution_count": 63,
   "outputs": [
    {
     "name": "stdout",
     "output_type": "stream",
     "text": [
      "Rule #1:\n",
      "REGENCY TEA PLATE GREEN \n",
      "=> REGENCY TEA PLATE ROSES \n",
      "Support: 0.01317188906160517\n",
      "Confidence: 0.8341968911917097\n",
      "Lift: 44.62314486230314\n",
      "==========================================================\n",
      "Rule #2:\n",
      "POPPY'S PLAYHOUSE BEDROOM \n",
      "=> POPPY'S PLAYHOUSE KITCHEN\n",
      "Support: 0.01284463715945349\n",
      "Confidence: 0.7370892018779343\n",
      "Lift: 40.95200597524541\n",
      "==========================================================\n",
      "Rule #3:\n",
      "SET/6 RED SPOTTY PAPER CUPS\n",
      "=> SET/6 RED SPOTTY PAPER PLATES\n",
      "Support: 0.014317270719136055\n",
      "Confidence: 0.8177570093457943\n",
      "Lift: 37.93337353029846\n",
      "==========================================================\n",
      "Rule #4:\n",
      "SMALL DOLLY MIX DESIGN ORANGE BOWL\n",
      "=> SMALL MARSHMALLOWS PINK BOWL\n",
      "Support: 0.014317270719136055\n",
      "Confidence: 0.6628787878787878\n",
      "Lift: 36.17128314393939\n",
      "==========================================================\n",
      "Rule #5:\n",
      "WOODEN HEART CHRISTMAS SCANDINAVIAN\n",
      "=> WOODEN STAR CHRISTMAS SCANDINAVIAN\n",
      "Support: 0.0159126237421255\n",
      "Confidence: 0.7203703703703703\n",
      "Lift: 34.19451276519237\n",
      "==========================================================\n",
      "Rule #6:\n",
      "SET OF 12 FAIRY CAKE BAKING CASES\n",
      "=> SET OF 12 MINI LOAF BAKING CASES\n",
      "Support: 0.012558291745070768\n",
      "Confidence: 0.5511669658886894\n",
      "Lift: 30.0085248287637\n",
      "==========================================================\n",
      "Rule #7:\n",
      "JUMBO BAG VINTAGE CHRISTMAS \n",
      "=> JUMBO BAG 50'S CHRISTMAS \n",
      "Support: 0.013253702037143092\n",
      "Confidence: 0.670807453416149\n",
      "Lift: 22.681271101260275\n",
      "==========================================================\n",
      "Rule #8:\n",
      "HAND WARMER OWL DESIGN\n",
      "=> HAND WARMER SCOTTY DOG DESIGN\n",
      "Support: 0.013703673402601653\n",
      "Confidence: 0.5037593984962406\n",
      "Lift: 22.269262668425135\n",
      "==========================================================\n",
      "Rule #9:\n",
      "CHARLOTTE BAG SUKI DESIGN | & | RED RETROSPOT CHARLOTTE BAG\n",
      "=> STRAWBERRY CHARLOTTE BAG\n",
      "Support: 0.013744579890370612\n",
      "Confidence: 0.6588235294117647\n",
      "Lift: 21.942234332425066\n",
      "==========================================================\n",
      "Rule #10:\n",
      "SUKI  SHOULDER BAG\n",
      "=> DOTCOM POSTAGE\n",
      "Support: 0.013744579890370612\n",
      "Confidence: 0.6327683615819208\n",
      "Lift: 21.817567513725862\n",
      "==========================================================\n",
      "Rule #11:\n",
      "CHARLOTTE BAG PINK POLKADOT | & | RED RETROSPOT CHARLOTTE BAG\n",
      "=> STRAWBERRY CHARLOTTE BAG\n",
      "Support: 0.013417327988218932\n",
      "Confidence: 0.623574144486692\n",
      "Lift: 20.768247324416446\n",
      "==========================================================\n",
      "Rule #12:\n",
      "GREEN REGENCY TEACUP AND SAUCER\n",
      "=> PINK REGENCY TEACUP AND SAUCER | & | ROSES REGENCY TEACUP AND SAUCER \n",
      "Support: 0.022457661785159126\n",
      "Confidence: 0.5193945127719962\n",
      "Lift: 20.679345699062246\n",
      "==========================================================\n",
      "Rule #13:\n",
      "HAND WARMER BIRD DESIGN\n",
      "=> HAND WARMER OWL DESIGN\n",
      "Support: 0.01276282418391557\n",
      "Confidence: 0.5571428571428572\n",
      "Lift: 20.48107411385607\n",
      "==========================================================\n",
      "Rule #14:\n",
      "STRAWBERRY CHARLOTTE BAG | & | RED RETROSPOT CHARLOTTE BAG\n",
      "=> WOODLAND CHARLOTTE BAG\n",
      "Support: 0.013417327988218932\n",
      "Confidence: 0.6693877551020408\n",
      "Lift: 19.41145084368267\n",
      "==========================================================\n",
      "Rule #15:\n",
      "CHARLOTTE BAG SUKI DESIGN | & | RED RETROSPOT CHARLOTTE BAG\n",
      "=> WOODLAND CHARLOTTE BAG\n",
      "Support: 0.013785486378139573\n",
      "Confidence: 0.6607843137254902\n",
      "Lift: 19.16196124950573\n",
      "==========================================================\n",
      "Rule #16:\n",
      "BLUE HARMONICA IN BOX \n",
      "=> RED  HARMONICA IN BOX \n",
      "Support: 0.01292645013499141\n",
      "Confidence: 0.5223140495867769\n",
      "Lift: 19.05744665104231\n",
      "==========================================================\n",
      "Rule #17:\n",
      "GARDENERS KNEELING PAD CUP OF TEA \n",
      "=> GARDENERS KNEELING PAD KEEP CALM \n",
      "Support: 0.022457661785159126\n",
      "Confidence: 0.7176470588235294\n",
      "Lift: 18.986580086580087\n",
      "==========================================================\n",
      "Rule #18:\n",
      "CHARLOTTE BAG PINK POLKADOT | & | CHARLOTTE BAG SUKI DESIGN\n",
      "=> RED RETROSPOT CHARLOTTE BAG\n",
      "Support: 0.013580953939294772\n",
      "Confidence: 0.8\n",
      "Lift: 18.625523809523813\n",
      "==========================================================\n",
      "Rule #19:\n",
      "GREEN REGENCY TEACUP AND SAUCER\n",
      "=> PINK REGENCY TEACUP AND SAUCER\n",
      "Support: 0.02634377812321034\n",
      "Confidence: 0.609271523178808\n",
      "Lift: 18.594571355342246\n",
      "==========================================================\n",
      "Rule #20:\n",
      "PINK REGENCY TEACUP AND SAUCER | & | REGENCY CAKESTAND 3 TIER\n",
      "=> ROSES REGENCY TEACUP AND SAUCER \n",
      "Support: 0.013785486378139573\n",
      "Confidence: 0.8383084577114428\n",
      "Lift: 18.29757906894101\n",
      "==========================================================\n"
     ]
    }
   ],
   "source": [
    "count=1\n",
    "for i, d in association_results_table.head(10).iterrows():\n",
    "    print('Rule #'+str(count)+':')\n",
    "    print(d['LeftPart'])\n",
    "    print('=> '+d['RightPart'])\n",
    "    print('Support: '+str(d['Support']))\n",
    "    print('Confidence: '+str(d['Confidence']))\n",
    "    print('Lift: '+str(d['Lift']))\n",
    "    print('==========================================================')\n",
    "    count=count+1\n",
    "\n",
    "# for item in association_results:\n",
    "#\n",
    "#     pair = item[0]\n",
    "#     items = [x for x in pair]\n",
    "#\n",
    "#     print(\"Rule: \" + items[0] + \" -> \" + items[1])\n",
    "#     print(\"Support: \" + str(item[1]))\n",
    "#     print(\"Confidence: \" + str(item[2][0][2]))\n",
    "#     print(\"Lift: \" + str(item[2][0][3]))\n",
    "#     print(\"=====================================\")\n",
    "\n",
    "\n",
    "\n"
   ],
   "metadata": {
    "collapsed": false,
    "pycharm": {
     "name": "#%%\n"
    }
   }
  }
 ],
 "metadata": {
  "kernelspec": {
   "name": "pycharm-cfdf77",
   "language": "python",
   "display_name": "PyCharm (Forecasting)"
  },
  "language_info": {
   "codemirror_mode": {
    "name": "ipython",
    "version": 2
   },
   "file_extension": ".py",
   "mimetype": "text/x-python",
   "name": "python",
   "nbconvert_exporter": "python",
   "pygments_lexer": "ipython2",
   "version": "2.7.6"
  }
 },
 "nbformat": 4,
 "nbformat_minor": 0
}