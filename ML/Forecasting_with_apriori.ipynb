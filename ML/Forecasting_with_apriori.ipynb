{
 "cells": [
  {
   "cell_type": "markdown",
   "metadata": {
    "collapsed": true,
    "pycharm": {
     "name": "#%% md\n"
    }
   },
   "source": [
    "Поиск ассоциативных правил при помощи apriori алгоритма"
   ]
  },
  {
   "cell_type": "markdown",
   "metadata": {
    "collapsed": true,
    "pycharm": {
     "name": "#%% md\n"
    }
   },
   "source": [
    "Импортируем библиотеки"
   ]
  },
  {
   "cell_type": "code",
   "execution_count": 20,
   "metadata": {
    "pycharm": {
     "name": "#%%\n"
    }
   },
   "outputs": [],
   "source": [
    "import numpy as np\n",
    "import pandas as pd\n",
    "from apyori import apriori"
   ]
  },
  {
   "cell_type": "markdown",
   "metadata": {
    "pycharm": {
     "name": "#%% md\n"
    }
   },
   "source": [
    "Считываем данные"
   ]
  },
  {
   "cell_type": "code",
   "execution_count": null,
   "metadata": {
    "pycharm": {
     "is_executing": true,
     "name": "#%%\n"
    }
   },
   "outputs": [],
   "source": [
    "df = pd.read_excel('datasets\\Big_retail_dataset.xlsx')\n",
    "print(\"Количество строк: %d\"  %  df.shape[0])\n",
    "print(\"Количество столбцов: %d\"  %  df.shape[1])"
   ]
  },
  {
   "cell_type": "code",
   "execution_count": null,
   "metadata": {
    "pycharm": {
     "is_executing": true,
     "name": "#%%\n"
    }
   },
   "outputs": [],
   "source": [
    "df.head()"
   ]
  },
  {
   "cell_type": "markdown",
   "metadata": {
    "pycharm": {
     "name": "#%% md\n"
    }
   },
   "source": [
    "Нормализуем дату(избавляемся от времени)"
   ]
  },
  {
   "cell_type": "code",
   "execution_count": null,
   "metadata": {
    "pycharm": {
     "is_executing": true,
     "name": "#%%\n"
    }
   },
   "outputs": [],
   "source": [
    "df['InvoiceDate'] = pd.to_datetime(df['InvoiceDate']).dt.normalize()\n",
    "df.head()"
   ]
  },
  {
   "cell_type": "markdown",
   "metadata": {
    "pycharm": {
     "name": "#%% md\n"
    }
   },
   "source": [
    "Выводим количество строк с пустым атрибутом 'Description'"
   ]
  },
  {
   "cell_type": "code",
   "execution_count": null,
   "metadata": {
    "pycharm": {
     "is_executing": true,
     "name": "#%%\n"
    }
   },
   "outputs": [],
   "source": [
    "print(len(df[df['Description'].isnull()]))"
   ]
  },
  {
   "cell_type": "markdown",
   "metadata": {
    "pycharm": {
     "name": "#%% md\n"
    }
   },
   "source": [
    "Удаляем строки с пустым атрибутом 'Description'"
   ]
  },
  {
   "cell_type": "code",
   "execution_count": null,
   "metadata": {
    "pycharm": {
     "is_executing": true,
     "name": "#%%\n"
    }
   },
   "outputs": [],
   "source": [
    "df=df[df['Description'].notnull()]\n",
    "print(\"Количество строк: %d\"  %  df.shape[0])\n",
    "print(\"Количество столбцов: %d\"  %  df.shape[1])"
   ]
  },
  {
   "cell_type": "code",
   "execution_count": null,
   "metadata": {
    "pycharm": {
     "is_executing": true,
     "name": "#%%\n"
    }
   },
   "outputs": [],
   "source": [
    "df.head()"
   ]
  },
  {
   "cell_type": "markdown",
   "metadata": {
    "pycharm": {
     "name": "#%% md\n"
    }
   },
   "source": [
    "Группируем данные по номерам выставленных счетов"
   ]
  },
  {
   "cell_type": "code",
   "execution_count": null,
   "metadata": {
    "pycharm": {
     "is_executing": true,
     "name": "#%%\n"
    }
   },
   "outputs": [],
   "source": [
    "gp_InvoiceNo = df.groupby('InvoiceNo')"
   ]
  },
  {
   "cell_type": "markdown",
   "metadata": {
    "pycharm": {
     "name": "#%% md\n"
    }
   },
   "source": [
    "Формируем список транзакций, где каждая запись - это список вещей, купленных на один счет"
   ]
  },
  {
   "cell_type": "code",
   "execution_count": null,
   "metadata": {
    "pycharm": {
     "is_executing": true,
     "name": "#%%\n"
    }
   },
   "outputs": [],
   "source": [
    "transactions = []\n",
    "for name,group in gp_InvoiceNo:\n",
    "    transactions.append(list(group['Description'].map(str)))"
   ]
  },
  {
   "cell_type": "markdown",
   "metadata": {
    "pycharm": {
     "name": "#%% md\n"
    }
   },
   "source": [
    "Формируем из DataFrame списка транзакций"
   ]
  },
  {
   "cell_type": "code",
   "execution_count": null,
   "metadata": {
    "pycharm": {
     "is_executing": true,
     "name": "#%%\n"
    }
   },
   "outputs": [],
   "source": [
    "transactions_df=pd.DataFrame(transactions)\n",
    "print(\"Количество строк: %d\"  %  transactions_df.shape[0])\n",
    "print(\"Количество столбцов: %d\"  %  transactions_df.shape[1])"
   ]
  },
  {
   "cell_type": "code",
   "execution_count": null,
   "metadata": {
    "pycharm": {
     "is_executing": true,
     "name": "#%%\n"
    }
   },
   "outputs": [],
   "source": [
    "transactions_df.head()"
   ]
  },
  {
   "cell_type": "markdown",
   "metadata": {
    "pycharm": {
     "name": "#%% md\n"
    }
   },
   "source": [
    "Вычисляем поддержку, при которой товар встречается в среднем один раз за день"
   ]
  },
  {
   "cell_type": "code",
   "execution_count": null,
   "metadata": {
    "pycharm": {
     "is_executing": true,
     "name": "#%%\n"
    }
   },
   "outputs": [],
   "source": [
    "support=len(df['InvoiceDate'].unique())/transactions_df.shape[0]\n",
    "print(support)"
   ]
  },
  {
   "cell_type": "markdown",
   "metadata": {
    "pycharm": {
     "name": "#%% md\n"
    }
   },
   "source": [
    "Используя функцию apriori, находим список ассоциативных правил"
   ]
  },
  {
   "cell_type": "code",
   "execution_count": null,
   "metadata": {
    "pycharm": {
     "is_executing": true,
     "name": "#%%\n"
    }
   },
   "outputs": [],
   "source": [
    "association_results = list(apriori(transactions,\n",
    "                                   min_support = support,\n",
    "                                   min_confidence = 0.5,\n",
    "                                   min_lift = 3,\n",
    "                                   min_length = 2))"
   ]
  },
  {
   "cell_type": "markdown",
   "metadata": {
    "pycharm": {
     "name": "#%% md\n"
    }
   },
   "source": [
    "Формируем DataFrame для списка правил"
   ]
  },
  {
   "cell_type": "code",
   "execution_count": null,
   "metadata": {
    "pycharm": {
     "is_executing": true,
     "name": "#%%\n"
    }
   },
   "outputs": [],
   "source": [
    "association_results_table=\\\n",
    "    pd.DataFrame(np.random.randint(low=0,\n",
    "                                   high=1,\n",
    "                                   size=(len(association_results),6)),\n",
    "                 columns=['GeneralRules',\n",
    "                          'LeftPart',\n",
    "                          'RightPart',\n",
    "                          'Support',\n",
    "                          'Confidence',\n",
    "                          'Lift'])\n",
    "\n"
   ]
  },
  {
   "cell_type": "markdown",
   "metadata": {
    "pycharm": {
     "name": "#%% md\n"
    }
   },
   "source": [
    "Заполняем DataFrame данными"
   ]
  },
  {
   "cell_type": "code",
   "execution_count": null,
   "metadata": {
    "pycharm": {
     "is_executing": true,
     "name": "#%%\n"
    }
   },
   "outputs": [],
   "source": [
    "index=0\n",
    "for g, s, i in association_results:\n",
    "    association_results_table.iloc[index] = [' | & | '.join(list(g)),\n",
    "                                             ' | & | '.join(list(i[0][0])),\n",
    "                                             ' | & | '.join(list(i[0][1])),\n",
    "                                             s,\n",
    "                                             i[0][2],\n",
    "                                             i[0][3]]\n",
    "    index=index+1"
   ]
  },
  {
   "cell_type": "markdown",
   "metadata": {
    "pycharm": {
     "name": "#%% md\n"
    }
   },
   "source": [
    "Сортируем данные по атрибуту 'Lift'"
   ]
  },
  {
   "cell_type": "code",
   "execution_count": null,
   "metadata": {
    "pycharm": {
     "is_executing": true,
     "name": "#%%\n"
    }
   },
   "outputs": [],
   "source": [
    "association_results_table = \\\n",
    "    association_results_table.sort_values('Lift', ascending=0)"
   ]
  },
  {
   "cell_type": "markdown",
   "metadata": {
    "pycharm": {
     "name": "#%% md\n"
    }
   },
   "source": [
    "Выводим правила в виде таблицы"
   ]
  },
  {
   "cell_type": "code",
   "execution_count": null,
   "metadata": {
    "pycharm": {
     "is_executing": true,
     "name": "#%%\n"
    }
   },
   "outputs": [],
   "source": [
    "print(\"Количество строк: %d\"  %  association_results_table.shape[0])\n",
    "print(\"Количество столбцов: %d\"  %  association_results_table.shape[1])"
   ]
  },
  {
   "cell_type": "code",
   "execution_count": null,
   "metadata": {
    "pycharm": {
     "is_executing": true,
     "name": "#%%\n"
    }
   },
   "outputs": [],
   "source": [
    "association_results_table.head()"
   ]
  },
  {
   "cell_type": "markdown",
   "metadata": {
    "pycharm": {
     "name": "#%% md\n"
    }
   },
   "source": [
    "Выводим топ-10 в виде списка"
   ]
  },
  {
   "cell_type": "code",
   "execution_count": null,
   "metadata": {
    "pycharm": {
     "is_executing": true,
     "name": "#%%\n"
    }
   },
   "outputs": [],
   "source": [
    "count=1\n",
    "for i, d in association_results_table.head(10).iterrows():\n",
    "    print('Rule #'+str(count)+':')\n",
    "    print(d['LeftPart'])\n",
    "    print('=> '+d['RightPart'])\n",
    "    print('Support: '+str(d['Support']))\n",
    "    print('Confidence: '+str(d['Confidence']))\n",
    "    print('Lift: '+str(d['Lift']))\n",
    "    print('==========================================================')\n",
    "    count=count+1"
   ]
  },
  {
   "cell_type": "code",
   "execution_count": null,
   "outputs": [],
   "source": [],
   "metadata": {
    "collapsed": false,
    "pycharm": {
     "name": "#%%\n"
    }
   }
  },
  {
   "cell_type": "code",
   "execution_count": null,
   "metadata": {
    "pycharm": {
     "is_executing": true,
     "name": "#%%\n"
    }
   },
   "outputs": [],
   "source": []
  },
  {
   "cell_type": "code",
   "execution_count": 15,
   "metadata": {
    "pycharm": {
     "name": "#%%\n"
    },
    "scrolled": true
   },
   "outputs": [
    {
     "name": "stdout",
     "output_type": "stream",
     "text": [
      "Rule #1:\n",
      "REGENCY TEA PLATE GREEN \n",
      "=> REGENCY TEA PLATE ROSES \n",
      "Support: 0.01317188906160517\n",
      "Confidence: 0.8341968911917097\n",
      "Lift: 44.62314486230314\n",
      "==========================================================\n",
      "Rule #2:\n",
      "POPPY'S PLAYHOUSE BEDROOM \n",
      "=> POPPY'S PLAYHOUSE KITCHEN\n",
      "Support: 0.01284463715945349\n",
      "Confidence: 0.7370892018779343\n",
      "Lift: 40.95200597524541\n",
      "==========================================================\n",
      "Rule #3:\n",
      "SET/6 RED SPOTTY PAPER CUPS\n",
      "=> SET/6 RED SPOTTY PAPER PLATES\n",
      "Support: 0.014317270719136055\n",
      "Confidence: 0.8177570093457943\n",
      "Lift: 37.93337353029846\n",
      "==========================================================\n",
      "Rule #4:\n",
      "SMALL DOLLY MIX DESIGN ORANGE BOWL\n",
      "=> SMALL MARSHMALLOWS PINK BOWL\n",
      "Support: 0.014317270719136055\n",
      "Confidence: 0.6628787878787878\n",
      "Lift: 36.17128314393939\n",
      "==========================================================\n",
      "Rule #5:\n",
      "WOODEN HEART CHRISTMAS SCANDINAVIAN\n",
      "=> WOODEN STAR CHRISTMAS SCANDINAVIAN\n",
      "Support: 0.0159126237421255\n",
      "Confidence: 0.7203703703703703\n",
      "Lift: 34.19451276519237\n",
      "==========================================================\n",
      "Rule #6:\n",
      "SET OF 12 FAIRY CAKE BAKING CASES\n",
      "=> SET OF 12 MINI LOAF BAKING CASES\n",
      "Support: 0.012558291745070768\n",
      "Confidence: 0.5511669658886894\n",
      "Lift: 30.0085248287637\n",
      "==========================================================\n",
      "Rule #7:\n",
      "JUMBO BAG VINTAGE CHRISTMAS \n",
      "=> JUMBO BAG 50'S CHRISTMAS \n",
      "Support: 0.013253702037143092\n",
      "Confidence: 0.670807453416149\n",
      "Lift: 22.681271101260275\n",
      "==========================================================\n",
      "Rule #8:\n",
      "HAND WARMER OWL DESIGN\n",
      "=> HAND WARMER SCOTTY DOG DESIGN\n",
      "Support: 0.013703673402601653\n",
      "Confidence: 0.5037593984962406\n",
      "Lift: 22.269262668425135\n",
      "==========================================================\n",
      "Rule #9:\n",
      "CHARLOTTE BAG SUKI DESIGN | & | RED RETROSPOT CHARLOTTE BAG\n",
      "=> STRAWBERRY CHARLOTTE BAG\n",
      "Support: 0.013744579890370612\n",
      "Confidence: 0.6588235294117647\n",
      "Lift: 21.942234332425066\n",
      "==========================================================\n",
      "Rule #10:\n",
      "SUKI  SHOULDER BAG\n",
      "=> DOTCOM POSTAGE\n",
      "Support: 0.013744579890370612\n",
      "Confidence: 0.6327683615819208\n",
      "Lift: 21.817567513725862\n",
      "==========================================================\n"
     ]
    }
   ],
   "source": []
  }
 ],
 "metadata": {
  "kernelspec": {
   "display_name": "PyCharm (Forecasting)",
   "language": "python",
   "name": "pycharm-cfdf77"
  },
  "language_info": {
   "codemirror_mode": {
    "name": "ipython",
    "version": 3
   },
   "file_extension": ".py",
   "mimetype": "text/x-python",
   "name": "python",
   "nbconvert_exporter": "python",
   "pygments_lexer": "ipython3",
   "version": "3.7.7"
  }
 },
 "nbformat": 4,
 "nbformat_minor": 1
}