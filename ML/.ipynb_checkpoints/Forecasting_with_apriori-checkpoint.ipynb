{
 "cells": [
  {
   "cell_type": "markdown",
   "metadata": {
    "collapsed": true,
    "pycharm": {
     "name": "#%% md\n"
    }
   },
   "source": [
    "Поиск ассоциативных правил при помощи apriori алгоритма"
   ]
  },
  {
   "cell_type": "markdown",
   "metadata": {
    "collapsed": true,
    "pycharm": {
     "name": "#%% md\n"
    }
   },
   "source": [
    "Импортируем библиотеки"
   ]
  },
  {
   "cell_type": "code",
   "execution_count": 1,
   "metadata": {
    "pycharm": {
     "name": "#%%\n"
    }
   },
   "outputs": [],
   "source": [
    "import numpy as np\n",
    "import pandas as pd\n",
    "from apyori import apriori"
   ]
  },
  {
   "cell_type": "markdown",
   "metadata": {
    "pycharm": {
     "name": "#%% md\n"
    }
   },
   "source": [
    "Считываем данные"
   ]
  },
  {
   "cell_type": "code",
   "execution_count": 2,
   "metadata": {
    "pycharm": {
     "name": "#%%\n"
    }
   },
   "outputs": [
    {
     "name": "stdout",
     "output_type": "stream",
     "text": [
      "Количество строк: 541909\n",
      "Количество столбцов: 8\n"
     ]
    }
   ],
   "source": [
    "df = pd.read_excel('datasets\\Big_retail_dataset.xlsx')\n",
    "print(\"Количество строк: %d\"  %  df.shape[0])\n",
    "print(\"Количество столбцов: %d\"  %  df.shape[1])"
   ]
  },
  {
   "cell_type": "code",
   "execution_count": 3,
   "metadata": {
    "pycharm": {
     "name": "#%%\n"
    }
   },
   "outputs": [
    {
     "data": {
      "text/html": [
       "<div>\n",
       "<style scoped>\n",
       "    .dataframe tbody tr th:only-of-type {\n",
       "        vertical-align: middle;\n",
       "    }\n",
       "\n",
       "    .dataframe tbody tr th {\n",
       "        vertical-align: top;\n",
       "    }\n",
       "\n",
       "    .dataframe thead th {\n",
       "        text-align: right;\n",
       "    }\n",
       "</style>\n",
       "<table border=\"1\" class=\"dataframe\">\n",
       "  <thead>\n",
       "    <tr style=\"text-align: right;\">\n",
       "      <th></th>\n",
       "      <th>InvoiceNo</th>\n",
       "      <th>StockCode</th>\n",
       "      <th>Description</th>\n",
       "      <th>Quantity</th>\n",
       "      <th>InvoiceDate</th>\n",
       "      <th>UnitPrice</th>\n",
       "      <th>CustomerID</th>\n",
       "      <th>Country</th>\n",
       "    </tr>\n",
       "  </thead>\n",
       "  <tbody>\n",
       "    <tr>\n",
       "      <th>0</th>\n",
       "      <td>536365</td>\n",
       "      <td>85123A</td>\n",
       "      <td>WHITE HANGING HEART T-LIGHT HOLDER</td>\n",
       "      <td>6</td>\n",
       "      <td>2010-12-01 08:26:00</td>\n",
       "      <td>2.55</td>\n",
       "      <td>17850.0</td>\n",
       "      <td>United Kingdom</td>\n",
       "    </tr>\n",
       "    <tr>\n",
       "      <th>1</th>\n",
       "      <td>536365</td>\n",
       "      <td>71053</td>\n",
       "      <td>WHITE METAL LANTERN</td>\n",
       "      <td>6</td>\n",
       "      <td>2010-12-01 08:26:00</td>\n",
       "      <td>3.39</td>\n",
       "      <td>17850.0</td>\n",
       "      <td>United Kingdom</td>\n",
       "    </tr>\n",
       "    <tr>\n",
       "      <th>2</th>\n",
       "      <td>536365</td>\n",
       "      <td>84406B</td>\n",
       "      <td>CREAM CUPID HEARTS COAT HANGER</td>\n",
       "      <td>8</td>\n",
       "      <td>2010-12-01 08:26:00</td>\n",
       "      <td>2.75</td>\n",
       "      <td>17850.0</td>\n",
       "      <td>United Kingdom</td>\n",
       "    </tr>\n",
       "    <tr>\n",
       "      <th>3</th>\n",
       "      <td>536365</td>\n",
       "      <td>84029G</td>\n",
       "      <td>KNITTED UNION FLAG HOT WATER BOTTLE</td>\n",
       "      <td>6</td>\n",
       "      <td>2010-12-01 08:26:00</td>\n",
       "      <td>3.39</td>\n",
       "      <td>17850.0</td>\n",
       "      <td>United Kingdom</td>\n",
       "    </tr>\n",
       "    <tr>\n",
       "      <th>4</th>\n",
       "      <td>536365</td>\n",
       "      <td>84029E</td>\n",
       "      <td>RED WOOLLY HOTTIE WHITE HEART.</td>\n",
       "      <td>6</td>\n",
       "      <td>2010-12-01 08:26:00</td>\n",
       "      <td>3.39</td>\n",
       "      <td>17850.0</td>\n",
       "      <td>United Kingdom</td>\n",
       "    </tr>\n",
       "  </tbody>\n",
       "</table>\n",
       "</div>"
      ],
      "text/plain": [
       "  InvoiceNo StockCode                          Description  Quantity  \\\n",
       "0    536365    85123A   WHITE HANGING HEART T-LIGHT HOLDER         6   \n",
       "1    536365     71053                  WHITE METAL LANTERN         6   \n",
       "2    536365    84406B       CREAM CUPID HEARTS COAT HANGER         8   \n",
       "3    536365    84029G  KNITTED UNION FLAG HOT WATER BOTTLE         6   \n",
       "4    536365    84029E       RED WOOLLY HOTTIE WHITE HEART.         6   \n",
       "\n",
       "          InvoiceDate  UnitPrice  CustomerID         Country  \n",
       "0 2010-12-01 08:26:00       2.55     17850.0  United Kingdom  \n",
       "1 2010-12-01 08:26:00       3.39     17850.0  United Kingdom  \n",
       "2 2010-12-01 08:26:00       2.75     17850.0  United Kingdom  \n",
       "3 2010-12-01 08:26:00       3.39     17850.0  United Kingdom  \n",
       "4 2010-12-01 08:26:00       3.39     17850.0  United Kingdom  "
      ]
     },
     "execution_count": 3,
     "metadata": {},
     "output_type": "execute_result"
    }
   ],
   "source": [
    "df.head()"
   ]
  },
  {
   "cell_type": "markdown",
   "metadata": {
    "pycharm": {
     "name": "#%% md\n"
    }
   },
   "source": [
    "Нормализуем дату(избавляемся от времени)"
   ]
  },
  {
   "cell_type": "code",
   "execution_count": 4,
   "metadata": {
    "pycharm": {
     "name": "#%%\n"
    }
   },
   "outputs": [
    {
     "data": {
      "text/html": [
       "<div>\n",
       "<style scoped>\n",
       "    .dataframe tbody tr th:only-of-type {\n",
       "        vertical-align: middle;\n",
       "    }\n",
       "\n",
       "    .dataframe tbody tr th {\n",
       "        vertical-align: top;\n",
       "    }\n",
       "\n",
       "    .dataframe thead th {\n",
       "        text-align: right;\n",
       "    }\n",
       "</style>\n",
       "<table border=\"1\" class=\"dataframe\">\n",
       "  <thead>\n",
       "    <tr style=\"text-align: right;\">\n",
       "      <th></th>\n",
       "      <th>InvoiceNo</th>\n",
       "      <th>StockCode</th>\n",
       "      <th>Description</th>\n",
       "      <th>Quantity</th>\n",
       "      <th>InvoiceDate</th>\n",
       "      <th>UnitPrice</th>\n",
       "      <th>CustomerID</th>\n",
       "      <th>Country</th>\n",
       "    </tr>\n",
       "  </thead>\n",
       "  <tbody>\n",
       "    <tr>\n",
       "      <th>0</th>\n",
       "      <td>536365</td>\n",
       "      <td>85123A</td>\n",
       "      <td>WHITE HANGING HEART T-LIGHT HOLDER</td>\n",
       "      <td>6</td>\n",
       "      <td>2010-12-01</td>\n",
       "      <td>2.55</td>\n",
       "      <td>17850.0</td>\n",
       "      <td>United Kingdom</td>\n",
       "    </tr>\n",
       "    <tr>\n",
       "      <th>1</th>\n",
       "      <td>536365</td>\n",
       "      <td>71053</td>\n",
       "      <td>WHITE METAL LANTERN</td>\n",
       "      <td>6</td>\n",
       "      <td>2010-12-01</td>\n",
       "      <td>3.39</td>\n",
       "      <td>17850.0</td>\n",
       "      <td>United Kingdom</td>\n",
       "    </tr>\n",
       "    <tr>\n",
       "      <th>2</th>\n",
       "      <td>536365</td>\n",
       "      <td>84406B</td>\n",
       "      <td>CREAM CUPID HEARTS COAT HANGER</td>\n",
       "      <td>8</td>\n",
       "      <td>2010-12-01</td>\n",
       "      <td>2.75</td>\n",
       "      <td>17850.0</td>\n",
       "      <td>United Kingdom</td>\n",
       "    </tr>\n",
       "    <tr>\n",
       "      <th>3</th>\n",
       "      <td>536365</td>\n",
       "      <td>84029G</td>\n",
       "      <td>KNITTED UNION FLAG HOT WATER BOTTLE</td>\n",
       "      <td>6</td>\n",
       "      <td>2010-12-01</td>\n",
       "      <td>3.39</td>\n",
       "      <td>17850.0</td>\n",
       "      <td>United Kingdom</td>\n",
       "    </tr>\n",
       "    <tr>\n",
       "      <th>4</th>\n",
       "      <td>536365</td>\n",
       "      <td>84029E</td>\n",
       "      <td>RED WOOLLY HOTTIE WHITE HEART.</td>\n",
       "      <td>6</td>\n",
       "      <td>2010-12-01</td>\n",
       "      <td>3.39</td>\n",
       "      <td>17850.0</td>\n",
       "      <td>United Kingdom</td>\n",
       "    </tr>\n",
       "  </tbody>\n",
       "</table>\n",
       "</div>"
      ],
      "text/plain": [
       "  InvoiceNo StockCode                          Description  Quantity  \\\n",
       "0    536365    85123A   WHITE HANGING HEART T-LIGHT HOLDER         6   \n",
       "1    536365     71053                  WHITE METAL LANTERN         6   \n",
       "2    536365    84406B       CREAM CUPID HEARTS COAT HANGER         8   \n",
       "3    536365    84029G  KNITTED UNION FLAG HOT WATER BOTTLE         6   \n",
       "4    536365    84029E       RED WOOLLY HOTTIE WHITE HEART.         6   \n",
       "\n",
       "  InvoiceDate  UnitPrice  CustomerID         Country  \n",
       "0  2010-12-01       2.55     17850.0  United Kingdom  \n",
       "1  2010-12-01       3.39     17850.0  United Kingdom  \n",
       "2  2010-12-01       2.75     17850.0  United Kingdom  \n",
       "3  2010-12-01       3.39     17850.0  United Kingdom  \n",
       "4  2010-12-01       3.39     17850.0  United Kingdom  "
      ]
     },
     "execution_count": 4,
     "metadata": {},
     "output_type": "execute_result"
    }
   ],
   "source": [
    "df['InvoiceDate'] = pd.to_datetime(df['InvoiceDate']).dt.normalize()\n",
    "df.head()"
   ]
  },
  {
   "cell_type": "markdown",
   "metadata": {
    "pycharm": {
     "name": "#%% md\n"
    }
   },
   "source": [
    "Выводим количество строк с пустым атрибутом 'Description'"
   ]
  },
  {
   "cell_type": "code",
   "execution_count": 5,
   "metadata": {
    "pycharm": {
     "name": "#%%\n"
    }
   },
   "outputs": [
    {
     "name": "stdout",
     "output_type": "stream",
     "text": [
      "1454\n"
     ]
    }
   ],
   "source": [
    "print(len(df[df['Description'].isnull()]))"
   ]
  },
  {
   "cell_type": "markdown",
   "metadata": {
    "pycharm": {
     "name": "#%% md\n"
    }
   },
   "source": [
    "Удаляем строки с пустым атрибутом 'Description'"
   ]
  },
  {
   "cell_type": "code",
   "execution_count": 6,
   "metadata": {
    "pycharm": {
     "name": "#%%\n"
    }
   },
   "outputs": [
    {
     "name": "stdout",
     "output_type": "stream",
     "text": [
      "Количество строк: 540455\n",
      "Количество столбцов: 8\n"
     ]
    }
   ],
   "source": [
    "df=df[df['Description'].notnull()]\n",
    "print(\"Количество строк: %d\"  %  df.shape[0])\n",
    "print(\"Количество столбцов: %d\"  %  df.shape[1])"
   ]
  },
  {
   "cell_type": "code",
   "execution_count": 7,
   "metadata": {
    "pycharm": {
     "name": "#%%\n"
    }
   },
   "outputs": [
    {
     "data": {
      "text/html": [
       "<div>\n",
       "<style scoped>\n",
       "    .dataframe tbody tr th:only-of-type {\n",
       "        vertical-align: middle;\n",
       "    }\n",
       "\n",
       "    .dataframe tbody tr th {\n",
       "        vertical-align: top;\n",
       "    }\n",
       "\n",
       "    .dataframe thead th {\n",
       "        text-align: right;\n",
       "    }\n",
       "</style>\n",
       "<table border=\"1\" class=\"dataframe\">\n",
       "  <thead>\n",
       "    <tr style=\"text-align: right;\">\n",
       "      <th></th>\n",
       "      <th>InvoiceNo</th>\n",
       "      <th>StockCode</th>\n",
       "      <th>Description</th>\n",
       "      <th>Quantity</th>\n",
       "      <th>InvoiceDate</th>\n",
       "      <th>UnitPrice</th>\n",
       "      <th>CustomerID</th>\n",
       "      <th>Country</th>\n",
       "    </tr>\n",
       "  </thead>\n",
       "  <tbody>\n",
       "    <tr>\n",
       "      <th>0</th>\n",
       "      <td>536365</td>\n",
       "      <td>85123A</td>\n",
       "      <td>WHITE HANGING HEART T-LIGHT HOLDER</td>\n",
       "      <td>6</td>\n",
       "      <td>2010-12-01</td>\n",
       "      <td>2.55</td>\n",
       "      <td>17850.0</td>\n",
       "      <td>United Kingdom</td>\n",
       "    </tr>\n",
       "    <tr>\n",
       "      <th>1</th>\n",
       "      <td>536365</td>\n",
       "      <td>71053</td>\n",
       "      <td>WHITE METAL LANTERN</td>\n",
       "      <td>6</td>\n",
       "      <td>2010-12-01</td>\n",
       "      <td>3.39</td>\n",
       "      <td>17850.0</td>\n",
       "      <td>United Kingdom</td>\n",
       "    </tr>\n",
       "    <tr>\n",
       "      <th>2</th>\n",
       "      <td>536365</td>\n",
       "      <td>84406B</td>\n",
       "      <td>CREAM CUPID HEARTS COAT HANGER</td>\n",
       "      <td>8</td>\n",
       "      <td>2010-12-01</td>\n",
       "      <td>2.75</td>\n",
       "      <td>17850.0</td>\n",
       "      <td>United Kingdom</td>\n",
       "    </tr>\n",
       "    <tr>\n",
       "      <th>3</th>\n",
       "      <td>536365</td>\n",
       "      <td>84029G</td>\n",
       "      <td>KNITTED UNION FLAG HOT WATER BOTTLE</td>\n",
       "      <td>6</td>\n",
       "      <td>2010-12-01</td>\n",
       "      <td>3.39</td>\n",
       "      <td>17850.0</td>\n",
       "      <td>United Kingdom</td>\n",
       "    </tr>\n",
       "    <tr>\n",
       "      <th>4</th>\n",
       "      <td>536365</td>\n",
       "      <td>84029E</td>\n",
       "      <td>RED WOOLLY HOTTIE WHITE HEART.</td>\n",
       "      <td>6</td>\n",
       "      <td>2010-12-01</td>\n",
       "      <td>3.39</td>\n",
       "      <td>17850.0</td>\n",
       "      <td>United Kingdom</td>\n",
       "    </tr>\n",
       "  </tbody>\n",
       "</table>\n",
       "</div>"
      ],
      "text/plain": [
       "  InvoiceNo StockCode                          Description  Quantity  \\\n",
       "0    536365    85123A   WHITE HANGING HEART T-LIGHT HOLDER         6   \n",
       "1    536365     71053                  WHITE METAL LANTERN         6   \n",
       "2    536365    84406B       CREAM CUPID HEARTS COAT HANGER         8   \n",
       "3    536365    84029G  KNITTED UNION FLAG HOT WATER BOTTLE         6   \n",
       "4    536365    84029E       RED WOOLLY HOTTIE WHITE HEART.         6   \n",
       "\n",
       "  InvoiceDate  UnitPrice  CustomerID         Country  \n",
       "0  2010-12-01       2.55     17850.0  United Kingdom  \n",
       "1  2010-12-01       3.39     17850.0  United Kingdom  \n",
       "2  2010-12-01       2.75     17850.0  United Kingdom  \n",
       "3  2010-12-01       3.39     17850.0  United Kingdom  \n",
       "4  2010-12-01       3.39     17850.0  United Kingdom  "
      ]
     },
     "execution_count": 7,
     "metadata": {},
     "output_type": "execute_result"
    }
   ],
   "source": [
    "df.head()"
   ]
  },
  {
   "cell_type": "markdown",
   "metadata": {
    "pycharm": {
     "name": "#%% md\n"
    }
   },
   "source": [
    "Группируем данные по номерам выставленных счетов"
   ]
  },
  {
   "cell_type": "code",
   "execution_count": 8,
   "metadata": {
    "pycharm": {
     "name": "#%%\n"
    }
   },
   "outputs": [],
   "source": [
    "gp_InvoiceNo = df.groupby('InvoiceNo')"
   ]
  },
  {
   "cell_type": "markdown",
   "metadata": {
    "pycharm": {
     "name": "#%% md\n"
    }
   },
   "source": [
    "Формируем список транзакций, где каждая запись - это список вещей, купленных на один счет"
   ]
  },
  {
   "cell_type": "code",
   "execution_count": 9,
   "metadata": {
    "pycharm": {
     "name": "#%%\n"
    }
   },
   "outputs": [],
   "source": [
    "transactions = []\n",
    "for name,group in gp_InvoiceNo:\n",
    "    transactions.append(list(group['Description'].map(str)))"
   ]
  },
  {
   "cell_type": "markdown",
   "metadata": {
    "pycharm": {
     "name": "#%% md\n"
    }
   },
   "source": [
    "Формируем из DataFrame списка транзакций"
   ]
  },
  {
   "cell_type": "code",
   "execution_count": 10,
   "metadata": {
    "pycharm": {
     "name": "#%%\n"
    }
   },
   "outputs": [
    {
     "name": "stdout",
     "output_type": "stream",
     "text": [
      "Количество строк: 24446\n",
      "Количество столбцов: 1114\n"
     ]
    }
   ],
   "source": [
    "transactions_df=pd.DataFrame(transactions)\n",
    "print(\"Количество строк: %d\"  %  transactions_df.shape[0])\n",
    "print(\"Количество столбцов: %d\"  %  transactions_df.shape[1])"
   ]
  },
  {
   "cell_type": "code",
   "execution_count": 11,
   "metadata": {
    "pycharm": {
     "name": "#%%\n"
    }
   },
   "outputs": [
    {
     "data": {
      "text/html": [
       "<div>\n",
       "<style scoped>\n",
       "    .dataframe tbody tr th:only-of-type {\n",
       "        vertical-align: middle;\n",
       "    }\n",
       "\n",
       "    .dataframe tbody tr th {\n",
       "        vertical-align: top;\n",
       "    }\n",
       "\n",
       "    .dataframe thead th {\n",
       "        text-align: right;\n",
       "    }\n",
       "</style>\n",
       "<table border=\"1\" class=\"dataframe\">\n",
       "  <thead>\n",
       "    <tr style=\"text-align: right;\">\n",
       "      <th></th>\n",
       "      <th>0</th>\n",
       "      <th>1</th>\n",
       "      <th>2</th>\n",
       "      <th>3</th>\n",
       "      <th>4</th>\n",
       "      <th>5</th>\n",
       "      <th>6</th>\n",
       "      <th>7</th>\n",
       "      <th>8</th>\n",
       "      <th>9</th>\n",
       "      <th>...</th>\n",
       "      <th>1104</th>\n",
       "      <th>1105</th>\n",
       "      <th>1106</th>\n",
       "      <th>1107</th>\n",
       "      <th>1108</th>\n",
       "      <th>1109</th>\n",
       "      <th>1110</th>\n",
       "      <th>1111</th>\n",
       "      <th>1112</th>\n",
       "      <th>1113</th>\n",
       "    </tr>\n",
       "  </thead>\n",
       "  <tbody>\n",
       "    <tr>\n",
       "      <th>0</th>\n",
       "      <td>WHITE HANGING HEART T-LIGHT HOLDER</td>\n",
       "      <td>WHITE METAL LANTERN</td>\n",
       "      <td>CREAM CUPID HEARTS COAT HANGER</td>\n",
       "      <td>KNITTED UNION FLAG HOT WATER BOTTLE</td>\n",
       "      <td>RED WOOLLY HOTTIE WHITE HEART.</td>\n",
       "      <td>SET 7 BABUSHKA NESTING BOXES</td>\n",
       "      <td>GLASS STAR FROSTED T-LIGHT HOLDER</td>\n",
       "      <td>None</td>\n",
       "      <td>None</td>\n",
       "      <td>None</td>\n",
       "      <td>...</td>\n",
       "      <td>None</td>\n",
       "      <td>None</td>\n",
       "      <td>None</td>\n",
       "      <td>None</td>\n",
       "      <td>None</td>\n",
       "      <td>None</td>\n",
       "      <td>None</td>\n",
       "      <td>None</td>\n",
       "      <td>None</td>\n",
       "      <td>None</td>\n",
       "    </tr>\n",
       "    <tr>\n",
       "      <th>1</th>\n",
       "      <td>HAND WARMER UNION JACK</td>\n",
       "      <td>HAND WARMER RED POLKA DOT</td>\n",
       "      <td>None</td>\n",
       "      <td>None</td>\n",
       "      <td>None</td>\n",
       "      <td>None</td>\n",
       "      <td>None</td>\n",
       "      <td>None</td>\n",
       "      <td>None</td>\n",
       "      <td>None</td>\n",
       "      <td>...</td>\n",
       "      <td>None</td>\n",
       "      <td>None</td>\n",
       "      <td>None</td>\n",
       "      <td>None</td>\n",
       "      <td>None</td>\n",
       "      <td>None</td>\n",
       "      <td>None</td>\n",
       "      <td>None</td>\n",
       "      <td>None</td>\n",
       "      <td>None</td>\n",
       "    </tr>\n",
       "    <tr>\n",
       "      <th>2</th>\n",
       "      <td>ASSORTED COLOUR BIRD ORNAMENT</td>\n",
       "      <td>POPPY'S PLAYHOUSE BEDROOM</td>\n",
       "      <td>POPPY'S PLAYHOUSE KITCHEN</td>\n",
       "      <td>FELTCRAFT PRINCESS CHARLOTTE DOLL</td>\n",
       "      <td>IVORY KNITTED MUG COSY</td>\n",
       "      <td>BOX OF 6 ASSORTED COLOUR TEASPOONS</td>\n",
       "      <td>BOX OF VINTAGE JIGSAW BLOCKS</td>\n",
       "      <td>BOX OF VINTAGE ALPHABET BLOCKS</td>\n",
       "      <td>HOME BUILDING BLOCK WORD</td>\n",
       "      <td>LOVE BUILDING BLOCK WORD</td>\n",
       "      <td>...</td>\n",
       "      <td>None</td>\n",
       "      <td>None</td>\n",
       "      <td>None</td>\n",
       "      <td>None</td>\n",
       "      <td>None</td>\n",
       "      <td>None</td>\n",
       "      <td>None</td>\n",
       "      <td>None</td>\n",
       "      <td>None</td>\n",
       "      <td>None</td>\n",
       "    </tr>\n",
       "    <tr>\n",
       "      <th>3</th>\n",
       "      <td>JAM MAKING SET WITH JARS</td>\n",
       "      <td>RED COAT RACK PARIS FASHION</td>\n",
       "      <td>YELLOW COAT RACK PARIS FASHION</td>\n",
       "      <td>BLUE COAT RACK PARIS FASHION</td>\n",
       "      <td>None</td>\n",
       "      <td>None</td>\n",
       "      <td>None</td>\n",
       "      <td>None</td>\n",
       "      <td>None</td>\n",
       "      <td>None</td>\n",
       "      <td>...</td>\n",
       "      <td>None</td>\n",
       "      <td>None</td>\n",
       "      <td>None</td>\n",
       "      <td>None</td>\n",
       "      <td>None</td>\n",
       "      <td>None</td>\n",
       "      <td>None</td>\n",
       "      <td>None</td>\n",
       "      <td>None</td>\n",
       "      <td>None</td>\n",
       "    </tr>\n",
       "    <tr>\n",
       "      <th>4</th>\n",
       "      <td>BATH BUILDING BLOCK WORD</td>\n",
       "      <td>None</td>\n",
       "      <td>None</td>\n",
       "      <td>None</td>\n",
       "      <td>None</td>\n",
       "      <td>None</td>\n",
       "      <td>None</td>\n",
       "      <td>None</td>\n",
       "      <td>None</td>\n",
       "      <td>None</td>\n",
       "      <td>...</td>\n",
       "      <td>None</td>\n",
       "      <td>None</td>\n",
       "      <td>None</td>\n",
       "      <td>None</td>\n",
       "      <td>None</td>\n",
       "      <td>None</td>\n",
       "      <td>None</td>\n",
       "      <td>None</td>\n",
       "      <td>None</td>\n",
       "      <td>None</td>\n",
       "    </tr>\n",
       "  </tbody>\n",
       "</table>\n",
       "<p>5 rows × 1114 columns</p>\n",
       "</div>"
      ],
      "text/plain": [
       "                                 0                            1     \\\n",
       "0  WHITE HANGING HEART T-LIGHT HOLDER          WHITE METAL LANTERN   \n",
       "1              HAND WARMER UNION JACK    HAND WARMER RED POLKA DOT   \n",
       "2       ASSORTED COLOUR BIRD ORNAMENT   POPPY'S PLAYHOUSE BEDROOM    \n",
       "3            JAM MAKING SET WITH JARS  RED COAT RACK PARIS FASHION   \n",
       "4            BATH BUILDING BLOCK WORD                         None   \n",
       "\n",
       "                             2                                    3     \\\n",
       "0  CREAM CUPID HEARTS COAT HANGER  KNITTED UNION FLAG HOT WATER BOTTLE   \n",
       "1                            None                                 None   \n",
       "2       POPPY'S PLAYHOUSE KITCHEN    FELTCRAFT PRINCESS CHARLOTTE DOLL   \n",
       "3  YELLOW COAT RACK PARIS FASHION         BLUE COAT RACK PARIS FASHION   \n",
       "4                            None                                 None   \n",
       "\n",
       "                             4                                   5     \\\n",
       "0  RED WOOLLY HOTTIE WHITE HEART.        SET 7 BABUSHKA NESTING BOXES   \n",
       "1                            None                                None   \n",
       "2         IVORY KNITTED MUG COSY   BOX OF 6 ASSORTED COLOUR TEASPOONS   \n",
       "3                            None                                None   \n",
       "4                            None                                None   \n",
       "\n",
       "                                6                               7     \\\n",
       "0  GLASS STAR FROSTED T-LIGHT HOLDER                            None   \n",
       "1                               None                            None   \n",
       "2      BOX OF VINTAGE JIGSAW BLOCKS   BOX OF VINTAGE ALPHABET BLOCKS   \n",
       "3                               None                            None   \n",
       "4                               None                            None   \n",
       "\n",
       "                       8                         9     ...  1104  1105  1106  \\\n",
       "0                      None                      None  ...  None  None  None   \n",
       "1                      None                      None  ...  None  None  None   \n",
       "2  HOME BUILDING BLOCK WORD  LOVE BUILDING BLOCK WORD  ...  None  None  None   \n",
       "3                      None                      None  ...  None  None  None   \n",
       "4                      None                      None  ...  None  None  None   \n",
       "\n",
       "   1107  1108  1109  1110  1111  1112  1113  \n",
       "0  None  None  None  None  None  None  None  \n",
       "1  None  None  None  None  None  None  None  \n",
       "2  None  None  None  None  None  None  None  \n",
       "3  None  None  None  None  None  None  None  \n",
       "4  None  None  None  None  None  None  None  \n",
       "\n",
       "[5 rows x 1114 columns]"
      ]
     },
     "execution_count": 11,
     "metadata": {},
     "output_type": "execute_result"
    }
   ],
   "source": [
    "transactions_df.head()"
   ]
  },
  {
   "cell_type": "markdown",
   "metadata": {
    "pycharm": {
     "name": "#%% md\n"
    }
   },
   "source": [
    "Вычисляем поддрежку, при которой товар встречается в среднем один раз за день"
   ]
  },
  {
   "cell_type": "code",
   "execution_count": 12,
   "metadata": {
    "pycharm": {
     "name": "#%%\n"
    }
   },
   "outputs": [
    {
     "name": "stdout",
     "output_type": "stream",
     "text": [
      "0.012476478769532848\n"
     ]
    }
   ],
   "source": [
    "support=len(df['InvoiceDate'].unique())/transactions_df.shape[0]\n",
    "print(support)"
   ]
  },
  {
   "cell_type": "markdown",
   "metadata": {
    "pycharm": {
     "name": "#%% md\n"
    }
   },
   "source": [
    "Используя функцию apriori находим список ассоциативных правил"
   ]
  },
  {
   "cell_type": "code",
   "execution_count": 13,
   "metadata": {
    "pycharm": {
     "name": "#%%\n"
    }
   },
   "outputs": [],
   "source": [
    "association_results = list(apriori(transactions,\n",
    "                                   min_support = support,\n",
    "                                   min_confidence = 0.5,\n",
    "                                   min_lift = 3,\n",
    "                                   min_length = 2))"
   ]
  },
  {
   "cell_type": "markdown",
   "metadata": {
    "pycharm": {
     "name": "#%% md\n"
    }
   },
   "source": [
    "Формируем DataFrame для списка правил"
   ]
  },
  {
   "cell_type": "code",
   "execution_count": 14,
   "metadata": {
    "pycharm": {
     "name": "#%%\n"
    }
   },
   "outputs": [],
   "source": [
    "association_results_table=\\\n",
    "    pd.DataFrame(np.random.randint(low=0,\n",
    "                                   high=1,\n",
    "                                   size=(len(association_results),6)),\n",
    "                 columns=['GeneralRules',\n",
    "                          'LeftPart',\n",
    "                          'RightPart',\n",
    "                          'Support',\n",
    "                          'Confidence',\n",
    "                          'Lift'])\n",
    "\n"
   ]
  },
  {
   "cell_type": "markdown",
   "metadata": {
    "pycharm": {
     "name": "#%% md\n"
    }
   },
   "source": [
    "Заполняем DataFrame данными"
   ]
  },
  {
   "cell_type": "code",
   "execution_count": 15,
   "metadata": {
    "pycharm": {
     "name": "#%%\n"
    }
   },
   "outputs": [],
   "source": [
    "index=0\n",
    "for g, s, i in association_results:\n",
    "    association_results_table.iloc[index] = [' | & | '.join(list(g)),\n",
    "                                             ' | & | '.join(list(i[0][0])),\n",
    "                                             ' | & | '.join(list(i[0][1])),\n",
    "                                             s,\n",
    "                                             i[0][2],\n",
    "                                             i[0][3]]\n",
    "    index=index+1"
   ]
  },
  {
   "cell_type": "markdown",
   "metadata": {
    "pycharm": {
     "name": "#%% md\n"
    }
   },
   "source": [
    "Сортируем данные по атрибуту 'Lift'"
   ]
  },
  {
   "cell_type": "code",
   "execution_count": 16,
   "metadata": {
    "pycharm": {
     "name": "#%%\n"
    }
   },
   "outputs": [],
   "source": [
    "association_results_table = \\\n",
    "    association_results_table.sort_values('Lift', ascending=0)"
   ]
  },
  {
   "cell_type": "markdown",
   "metadata": {
    "pycharm": {
     "name": "#%% md\n"
    }
   },
   "source": [
    "Выводим правила в виде таблицы"
   ]
  },
  {
   "cell_type": "code",
   "execution_count": 17,
   "metadata": {
    "pycharm": {
     "name": "#%%\n"
    }
   },
   "outputs": [
    {
     "name": "stdout",
     "output_type": "stream",
     "text": [
      "Количество строк: 108\n",
      "Количество столбцов: 6\n"
     ]
    }
   ],
   "source": [
    "print(\"Количество строк: %d\"  %  association_results_table.shape[0])\n",
    "print(\"Количество столбцов: %d\"  %  association_results_table.shape[1])"
   ]
  },
  {
   "cell_type": "code",
   "execution_count": 18,
   "metadata": {
    "pycharm": {
     "name": "#%%\n"
    }
   },
   "outputs": [
    {
     "data": {
      "text/html": [
       "<div>\n",
       "<style scoped>\n",
       "    .dataframe tbody tr th:only-of-type {\n",
       "        vertical-align: middle;\n",
       "    }\n",
       "\n",
       "    .dataframe tbody tr th {\n",
       "        vertical-align: top;\n",
       "    }\n",
       "\n",
       "    .dataframe thead th {\n",
       "        text-align: right;\n",
       "    }\n",
       "</style>\n",
       "<table border=\"1\" class=\"dataframe\">\n",
       "  <thead>\n",
       "    <tr style=\"text-align: right;\">\n",
       "      <th></th>\n",
       "      <th>GeneralRules</th>\n",
       "      <th>LeftPart</th>\n",
       "      <th>RightPart</th>\n",
       "      <th>Support</th>\n",
       "      <th>Confidence</th>\n",
       "      <th>Lift</th>\n",
       "    </tr>\n",
       "  </thead>\n",
       "  <tbody>\n",
       "    <tr>\n",
       "      <th>71</th>\n",
       "      <td>REGENCY TEA PLATE GREEN  | &amp; | REGENCY TEA PLA...</td>\n",
       "      <td>REGENCY TEA PLATE GREEN</td>\n",
       "      <td>REGENCY TEA PLATE ROSES</td>\n",
       "      <td>0.013172</td>\n",
       "      <td>0.834197</td>\n",
       "      <td>44.623145</td>\n",
       "    </tr>\n",
       "    <tr>\n",
       "      <th>67</th>\n",
       "      <td>POPPY'S PLAYHOUSE BEDROOM  | &amp; | POPPY'S PLAYH...</td>\n",
       "      <td>POPPY'S PLAYHOUSE BEDROOM</td>\n",
       "      <td>POPPY'S PLAYHOUSE KITCHEN</td>\n",
       "      <td>0.012845</td>\n",
       "      <td>0.737089</td>\n",
       "      <td>40.952006</td>\n",
       "    </tr>\n",
       "    <tr>\n",
       "      <th>75</th>\n",
       "      <td>SET/6 RED SPOTTY PAPER PLATES | &amp; | SET/6 RED ...</td>\n",
       "      <td>SET/6 RED SPOTTY PAPER CUPS</td>\n",
       "      <td>SET/6 RED SPOTTY PAPER PLATES</td>\n",
       "      <td>0.014317</td>\n",
       "      <td>0.817757</td>\n",
       "      <td>37.933374</td>\n",
       "    </tr>\n",
       "    <tr>\n",
       "      <th>76</th>\n",
       "      <td>SMALL DOLLY MIX DESIGN ORANGE BOWL | &amp; | SMALL...</td>\n",
       "      <td>SMALL DOLLY MIX DESIGN ORANGE BOWL</td>\n",
       "      <td>SMALL MARSHMALLOWS PINK BOWL</td>\n",
       "      <td>0.014317</td>\n",
       "      <td>0.662879</td>\n",
       "      <td>36.171283</td>\n",
       "    </tr>\n",
       "    <tr>\n",
       "      <th>80</th>\n",
       "      <td>WOODEN HEART CHRISTMAS SCANDINAVIAN | &amp; | WOOD...</td>\n",
       "      <td>WOODEN HEART CHRISTMAS SCANDINAVIAN</td>\n",
       "      <td>WOODEN STAR CHRISTMAS SCANDINAVIAN</td>\n",
       "      <td>0.015913</td>\n",
       "      <td>0.720370</td>\n",
       "      <td>34.194513</td>\n",
       "    </tr>\n",
       "  </tbody>\n",
       "</table>\n",
       "</div>"
      ],
      "text/plain": [
       "                                         GeneralRules  \\\n",
       "71  REGENCY TEA PLATE GREEN  | & | REGENCY TEA PLA...   \n",
       "67  POPPY'S PLAYHOUSE BEDROOM  | & | POPPY'S PLAYH...   \n",
       "75  SET/6 RED SPOTTY PAPER PLATES | & | SET/6 RED ...   \n",
       "76  SMALL DOLLY MIX DESIGN ORANGE BOWL | & | SMALL...   \n",
       "80  WOODEN HEART CHRISTMAS SCANDINAVIAN | & | WOOD...   \n",
       "\n",
       "                               LeftPart                           RightPart  \\\n",
       "71             REGENCY TEA PLATE GREEN             REGENCY TEA PLATE ROSES    \n",
       "67           POPPY'S PLAYHOUSE BEDROOM            POPPY'S PLAYHOUSE KITCHEN   \n",
       "75          SET/6 RED SPOTTY PAPER CUPS       SET/6 RED SPOTTY PAPER PLATES   \n",
       "76   SMALL DOLLY MIX DESIGN ORANGE BOWL        SMALL MARSHMALLOWS PINK BOWL   \n",
       "80  WOODEN HEART CHRISTMAS SCANDINAVIAN  WOODEN STAR CHRISTMAS SCANDINAVIAN   \n",
       "\n",
       "     Support  Confidence       Lift  \n",
       "71  0.013172    0.834197  44.623145  \n",
       "67  0.012845    0.737089  40.952006  \n",
       "75  0.014317    0.817757  37.933374  \n",
       "76  0.014317    0.662879  36.171283  \n",
       "80  0.015913    0.720370  34.194513  "
      ]
     },
     "execution_count": 18,
     "metadata": {},
     "output_type": "execute_result"
    }
   ],
   "source": [
    "association_results_table.head()"
   ]
  },
  {
   "cell_type": "markdown",
   "metadata": {
    "pycharm": {
     "name": "#%% md\n"
    }
   },
   "source": [
    "Выводим топ-10 в виде списка"
   ]
  },
  {
   "cell_type": "code",
   "execution_count": 19,
   "metadata": {
    "pycharm": {
     "name": "#%%\n"
    }
   },
   "outputs": [
    {
     "name": "stdout",
     "output_type": "stream",
     "text": [
      "Rule #1:\n",
      "REGENCY TEA PLATE GREEN \n",
      "=> REGENCY TEA PLATE ROSES \n",
      "Support: 0.01317188906160517\n",
      "Confidence: 0.8341968911917097\n",
      "Lift: 44.62314486230314\n",
      "==========================================================\n",
      "Rule #2:\n",
      "POPPY'S PLAYHOUSE BEDROOM \n",
      "=> POPPY'S PLAYHOUSE KITCHEN\n",
      "Support: 0.01284463715945349\n",
      "Confidence: 0.7370892018779343\n",
      "Lift: 40.95200597524541\n",
      "==========================================================\n",
      "Rule #3:\n",
      "SET/6 RED SPOTTY PAPER CUPS\n",
      "=> SET/6 RED SPOTTY PAPER PLATES\n",
      "Support: 0.014317270719136055\n",
      "Confidence: 0.8177570093457943\n",
      "Lift: 37.93337353029846\n",
      "==========================================================\n",
      "Rule #4:\n",
      "SMALL DOLLY MIX DESIGN ORANGE BOWL\n",
      "=> SMALL MARSHMALLOWS PINK BOWL\n",
      "Support: 0.014317270719136055\n",
      "Confidence: 0.6628787878787878\n",
      "Lift: 36.17128314393939\n",
      "==========================================================\n",
      "Rule #5:\n",
      "WOODEN HEART CHRISTMAS SCANDINAVIAN\n",
      "=> WOODEN STAR CHRISTMAS SCANDINAVIAN\n",
      "Support: 0.0159126237421255\n",
      "Confidence: 0.7203703703703703\n",
      "Lift: 34.19451276519237\n",
      "==========================================================\n",
      "Rule #6:\n",
      "SET OF 12 FAIRY CAKE BAKING CASES\n",
      "=> SET OF 12 MINI LOAF BAKING CASES\n",
      "Support: 0.012558291745070768\n",
      "Confidence: 0.5511669658886894\n",
      "Lift: 30.0085248287637\n",
      "==========================================================\n",
      "Rule #7:\n",
      "JUMBO BAG VINTAGE CHRISTMAS \n",
      "=> JUMBO BAG 50'S CHRISTMAS \n",
      "Support: 0.013253702037143092\n",
      "Confidence: 0.670807453416149\n",
      "Lift: 22.681271101260275\n",
      "==========================================================\n",
      "Rule #8:\n",
      "HAND WARMER OWL DESIGN\n",
      "=> HAND WARMER SCOTTY DOG DESIGN\n",
      "Support: 0.013703673402601653\n",
      "Confidence: 0.5037593984962406\n",
      "Lift: 22.269262668425135\n",
      "==========================================================\n",
      "Rule #9:\n",
      "CHARLOTTE BAG SUKI DESIGN | & | RED RETROSPOT CHARLOTTE BAG\n",
      "=> STRAWBERRY CHARLOTTE BAG\n",
      "Support: 0.013744579890370612\n",
      "Confidence: 0.6588235294117647\n",
      "Lift: 21.942234332425066\n",
      "==========================================================\n",
      "Rule #10:\n",
      "SUKI  SHOULDER BAG\n",
      "=> DOTCOM POSTAGE\n",
      "Support: 0.013744579890370612\n",
      "Confidence: 0.6327683615819208\n",
      "Lift: 21.817567513725862\n",
      "==========================================================\n"
     ]
    }
   ],
   "source": [
    "count=1\n",
    "for i, d in association_results_table.head(10).iterrows():\n",
    "    print('Rule #'+str(count)+':')\n",
    "    print(d['LeftPart'])\n",
    "    print('=> '+d['RightPart'])\n",
    "    print('Support: '+str(d['Support']))\n",
    "    print('Confidence: '+str(d['Confidence']))\n",
    "    print('Lift: '+str(d['Lift']))\n",
    "    print('==========================================================')\n",
    "    count=count+1"
   ]
  },
  {
   "cell_type": "code",
   "execution_count": 15,
   "metadata": {
    "pycharm": {
     "name": "#%%\n"
    },
    "scrolled": true
   },
   "outputs": [
    {
     "name": "stdout",
     "output_type": "stream",
     "text": [
      "Rule #1:\n",
      "REGENCY TEA PLATE GREEN \n",
      "=> REGENCY TEA PLATE ROSES \n",
      "Support: 0.01317188906160517\n",
      "Confidence: 0.8341968911917097\n",
      "Lift: 44.62314486230314\n",
      "==========================================================\n",
      "Rule #2:\n",
      "POPPY'S PLAYHOUSE BEDROOM \n",
      "=> POPPY'S PLAYHOUSE KITCHEN\n",
      "Support: 0.01284463715945349\n",
      "Confidence: 0.7370892018779343\n",
      "Lift: 40.95200597524541\n",
      "==========================================================\n",
      "Rule #3:\n",
      "SET/6 RED SPOTTY PAPER CUPS\n",
      "=> SET/6 RED SPOTTY PAPER PLATES\n",
      "Support: 0.014317270719136055\n",
      "Confidence: 0.8177570093457943\n",
      "Lift: 37.93337353029846\n",
      "==========================================================\n",
      "Rule #4:\n",
      "SMALL DOLLY MIX DESIGN ORANGE BOWL\n",
      "=> SMALL MARSHMALLOWS PINK BOWL\n",
      "Support: 0.014317270719136055\n",
      "Confidence: 0.6628787878787878\n",
      "Lift: 36.17128314393939\n",
      "==========================================================\n",
      "Rule #5:\n",
      "WOODEN HEART CHRISTMAS SCANDINAVIAN\n",
      "=> WOODEN STAR CHRISTMAS SCANDINAVIAN\n",
      "Support: 0.0159126237421255\n",
      "Confidence: 0.7203703703703703\n",
      "Lift: 34.19451276519237\n",
      "==========================================================\n",
      "Rule #6:\n",
      "SET OF 12 FAIRY CAKE BAKING CASES\n",
      "=> SET OF 12 MINI LOAF BAKING CASES\n",
      "Support: 0.012558291745070768\n",
      "Confidence: 0.5511669658886894\n",
      "Lift: 30.0085248287637\n",
      "==========================================================\n",
      "Rule #7:\n",
      "JUMBO BAG VINTAGE CHRISTMAS \n",
      "=> JUMBO BAG 50'S CHRISTMAS \n",
      "Support: 0.013253702037143092\n",
      "Confidence: 0.670807453416149\n",
      "Lift: 22.681271101260275\n",
      "==========================================================\n",
      "Rule #8:\n",
      "HAND WARMER OWL DESIGN\n",
      "=> HAND WARMER SCOTTY DOG DESIGN\n",
      "Support: 0.013703673402601653\n",
      "Confidence: 0.5037593984962406\n",
      "Lift: 22.269262668425135\n",
      "==========================================================\n",
      "Rule #9:\n",
      "CHARLOTTE BAG SUKI DESIGN | & | RED RETROSPOT CHARLOTTE BAG\n",
      "=> STRAWBERRY CHARLOTTE BAG\n",
      "Support: 0.013744579890370612\n",
      "Confidence: 0.6588235294117647\n",
      "Lift: 21.942234332425066\n",
      "==========================================================\n",
      "Rule #10:\n",
      "SUKI  SHOULDER BAG\n",
      "=> DOTCOM POSTAGE\n",
      "Support: 0.013744579890370612\n",
      "Confidence: 0.6327683615819208\n",
      "Lift: 21.817567513725862\n",
      "==========================================================\n"
     ]
    }
   ],
   "source": []
  }
 ],
 "metadata": {
  "kernelspec": {
   "display_name": "PyCharm (Forecasting)",
   "language": "python",
   "name": "pycharm-cfdf77"
  },
  "language_info": {
   "codemirror_mode": {
    "name": "ipython",
    "version": 3
   },
   "file_extension": ".py",
   "mimetype": "text/x-python",
   "name": "python",
   "nbconvert_exporter": "python",
   "pygments_lexer": "ipython3",
   "version": "3.7.7"
  }
 },
 "nbformat": 4,
 "nbformat_minor": 1
}
