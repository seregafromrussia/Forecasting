{
 "cells": [
  {
   "cell_type": "code",
   "execution_count": null,
   "metadata": {
    "collapsed": true,
    "pycharm": {
     "is_executing": true
    }
   },
   "outputs": [],
   "source": [
    "import numpy as np # linear algebra\n",
    "import pandas as pd # for pre - processing\n",
    "import matplotlib.pyplot as plt # for Data - Visualization\n",
    "from scipy.special import comb # The number of combinations of N things taken K at a time; \"N choose K\"\n",
    "from itertools import combinations, permutations # to form a \"iterator algebra\"\n",
    "\n",
    "\n"
   ]
  },
  {
   "cell_type": "code",
   "execution_count": null,
   "outputs": [],
   "source": [
    "df = pd.read_csv(\"datasets\\groceriesAdd.csv\")\n",
    "print(\"Количество строк: %d\"  %  len(df.index))\n",
    "df.head()\n"
   ],
   "metadata": {
    "collapsed": false,
    "pycharm": {
     "name": "#%%\n",
     "is_executing": true
    }
   }
  },
  {
   "cell_type": "code",
   "execution_count": null,
   "outputs": [],
   "source": [
    "def apyori(df, minimum_support=0.1, confidence=0.22):\n",
    "    df_values = df.values.astype(str)\n",
    "    index, counts = np.unique(df_values,return_counts=True)\n",
    "    df_item = pd.DataFrame(zip(index, counts), columns = ['product', 'frequency'])\n",
    "    df_item.drop(df_item[(df_item['product'] == 'nan' )|(df_item['product'] == 'None' )].index, inplace=True)\n",
    "    df_item.sort_values(by='frequency', ascending=False, inplace=True)\n",
    "    df_item.reset_index(drop=True, inplace=True)\n",
    "    df_item_frequent = df_item[df_item['frequency']>= minimum_support*len(df)]\n",
    "    df_itemset_frequency = pd.DataFrame(columns=['itemset', 'frequency'])\n",
    "    for i in range(1, len(df_item_frequent)+1):\n",
    "        comb = list(combinations(df_item_frequent['product'].values, i) )\n",
    "        for w in comb:\n",
    "            count = 0\n",
    "            for instance in df_values:\n",
    "                if all(elem in instance  for elem in w):\n",
    "                    count = count +1\n",
    "            if count >= (minimum_support*len(df)/2):#tirar /2\n",
    "                df_itemset_frequency = df_itemset_frequency.append({'itemset':w, 'frequency':count}, ignore_index=True)\n",
    "    df_itemset_frequency.sort_values(by='frequency', inplace=True, ascending=False)\n",
    "    reliability = pd.DataFrame(columns=['rule', 'frequency', 'reliability'])\n",
    "    for w in df_itemset_frequency['itemset'].values:\n",
    "        w_p = list(permutations(w,len(w)))\n",
    "        for j in w_p:\n",
    "            #print (len(j[0]))\n",
    "\n",
    "            p_uni = []\n",
    "            for i in range(len(j)):\n",
    "\n",
    "                count = 0\n",
    "                for instance in df_values:\n",
    "                    if all(elem in instance  for elem in j[i:]):\n",
    "                        count = count +1\n",
    "                p_uni.append(count/len(df))\n",
    "\n",
    "            if len(j) != 1:\n",
    "                a = p_uni[-2]/p_uni[-1]\n",
    "\n",
    "                for i in range(len(p_uni)-2):\n",
    "                    a = p_uni[-i-3]/a\n",
    "                j = list(j)\n",
    "                j.reverse()\n",
    "                reliability = reliability.append({'rule':j, 'frequency':p_uni[0], 'reliability':a}, ignore_index=True)\n",
    "            else:\n",
    "                reliability = reliability.append({'rule':j, 'frequency':p_uni[0], 'reliability':p_uni[0]}, ignore_index=True)\n",
    "    reliability.sort_values(by='frequency', ascending=False)\n",
    "    return reliability[reliability['reliability']>=confidence]\n",
    "\n",
    "\n",
    "\n",
    "apyori(df.drop(columns='Item(s)'))\n",
    "\n",
    "\n",
    "\n",
    "\n",
    "\n",
    "# df.shape # мы увидим информацию о размерности нашего датафрейма\n",
    "# df.info() # покажет информацию о размерности данных\n",
    "#           # описание индекса, количество not-a-number элементов\n",
    "# df.describe() # показывает статистики count,mean, std, min, 25%-50%-75% percentile, max\n",
    "# df.nunique() # количество уникальных значений для каждого столбца\n",
    "\n",
    "# df = df.loc[df['Item(s)'] != 1]\n",
    "# print(\"Количество строк: %d\"  %  len(df.index))\n",
    "# df.head()\n",
    "\n",
    "# records = []\n",
    "# for i in range(0, 9835):\n",
    "#     records.append([str(df.values[i,j]) for j in range(0, 33)])\n",
    "# print(records)"
   ],
   "metadata": {
    "collapsed": false,
    "pycharm": {
     "name": "#%%\n",
     "is_executing": true
    }
   }
  },
  {
   "cell_type": "code",
   "execution_count": null,
   "outputs": [],
   "source": [
    "# feature_names = df.columns.tolist()\n",
    "# for column in feature_names:\n",
    "#     print (column)\n",
    "#     print (df[column].value_counts(dropna=False))\n"
   ],
   "metadata": {
    "collapsed": false,
    "pycharm": {
     "name": "#%%\n",
     "is_executing": true
    }
   }
  }
 ],
 "metadata": {
  "kernelspec": {
   "name": "pycharm-cfdf77",
   "language": "python",
   "display_name": "PyCharm (Forecasting)"
  },
  "language_info": {
   "codemirror_mode": {
    "name": "ipython",
    "version": 2
   },
   "file_extension": ".py",
   "mimetype": "text/x-python",
   "name": "python",
   "nbconvert_exporter": "python",
   "pygments_lexer": "ipython2",
   "version": "2.7.6"
  }
 },
 "nbformat": 4,
 "nbformat_minor": 0
}